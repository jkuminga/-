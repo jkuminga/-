{
  "cells": [
    {
      "cell_type": "markdown",
      "id": "f0b5b1c1-4a29-4888-b3d6-41ba78115e29",
      "metadata": {
        "id": "f0b5b1c1-4a29-4888-b3d6-41ba78115e29"
      },
      "source": [
        "# VAE with KDD cup 1999 Data\n",
        "______\n",
        "## 1. load datasets"
      ]
    },
    {
      "cell_type": "code",
      "source": [
        "!pip install tensorflow==2.8"
      ],
      "metadata": {
        "colab": {
          "base_uri": "https://localhost:8080/"
        },
        "id": "AQ6VhJ3ZWYhO",
        "outputId": "f0b3b94a-2974-4cfa-c20b-bf8636d5a058"
      },
      "id": "AQ6VhJ3ZWYhO",
      "execution_count": 1,
      "outputs": [
        {
          "output_type": "stream",
          "name": "stdout",
          "text": [
            "Collecting tensorflow==2.8\n",
            "  Downloading tensorflow-2.8.0-cp310-cp310-manylinux2010_x86_64.whl.metadata (2.9 kB)\n",
            "Requirement already satisfied: absl-py>=0.4.0 in /usr/local/lib/python3.10/dist-packages (from tensorflow==2.8) (1.4.0)\n",
            "Requirement already satisfied: astunparse>=1.6.0 in /usr/local/lib/python3.10/dist-packages (from tensorflow==2.8) (1.6.3)\n",
            "Requirement already satisfied: flatbuffers>=1.12 in /usr/local/lib/python3.10/dist-packages (from tensorflow==2.8) (24.3.25)\n",
            "Requirement already satisfied: gast>=0.2.1 in /usr/local/lib/python3.10/dist-packages (from tensorflow==2.8) (0.6.0)\n",
            "Requirement already satisfied: google-pasta>=0.1.1 in /usr/local/lib/python3.10/dist-packages (from tensorflow==2.8) (0.2.0)\n",
            "Requirement already satisfied: h5py>=2.9.0 in /usr/local/lib/python3.10/dist-packages (from tensorflow==2.8) (3.12.1)\n",
            "Collecting keras-preprocessing>=1.1.1 (from tensorflow==2.8)\n",
            "  Downloading Keras_Preprocessing-1.1.2-py2.py3-none-any.whl.metadata (1.9 kB)\n",
            "Requirement already satisfied: libclang>=9.0.1 in /usr/local/lib/python3.10/dist-packages (from tensorflow==2.8) (18.1.1)\n",
            "Requirement already satisfied: numpy>=1.20 in /usr/local/lib/python3.10/dist-packages (from tensorflow==2.8) (1.26.4)\n",
            "Requirement already satisfied: opt-einsum>=2.3.2 in /usr/local/lib/python3.10/dist-packages (from tensorflow==2.8) (3.4.0)\n",
            "Requirement already satisfied: protobuf>=3.9.2 in /usr/local/lib/python3.10/dist-packages (from tensorflow==2.8) (4.25.5)\n",
            "Requirement already satisfied: setuptools in /usr/local/lib/python3.10/dist-packages (from tensorflow==2.8) (75.1.0)\n",
            "Requirement already satisfied: six>=1.12.0 in /usr/local/lib/python3.10/dist-packages (from tensorflow==2.8) (1.16.0)\n",
            "Requirement already satisfied: termcolor>=1.1.0 in /usr/local/lib/python3.10/dist-packages (from tensorflow==2.8) (2.5.0)\n",
            "Requirement already satisfied: typing-extensions>=3.6.6 in /usr/local/lib/python3.10/dist-packages (from tensorflow==2.8) (4.12.2)\n",
            "Requirement already satisfied: wrapt>=1.11.0 in /usr/local/lib/python3.10/dist-packages (from tensorflow==2.8) (1.16.0)\n",
            "Collecting tensorboard<2.9,>=2.8 (from tensorflow==2.8)\n",
            "  Downloading tensorboard-2.8.0-py3-none-any.whl.metadata (1.9 kB)\n",
            "Collecting tf-estimator-nightly==2.8.0.dev2021122109 (from tensorflow==2.8)\n",
            "  Downloading tf_estimator_nightly-2.8.0.dev2021122109-py2.py3-none-any.whl.metadata (1.2 kB)\n",
            "Collecting keras<2.9,>=2.8.0rc0 (from tensorflow==2.8)\n",
            "  Downloading keras-2.8.0-py2.py3-none-any.whl.metadata (1.3 kB)\n",
            "Requirement already satisfied: tensorflow-io-gcs-filesystem>=0.23.1 in /usr/local/lib/python3.10/dist-packages (from tensorflow==2.8) (0.37.1)\n",
            "Requirement already satisfied: grpcio<2.0,>=1.24.3 in /usr/local/lib/python3.10/dist-packages (from tensorflow==2.8) (1.67.1)\n",
            "Requirement already satisfied: wheel<1.0,>=0.23.0 in /usr/local/lib/python3.10/dist-packages (from astunparse>=1.6.0->tensorflow==2.8) (0.45.0)\n",
            "Requirement already satisfied: google-auth<3,>=1.6.3 in /usr/local/lib/python3.10/dist-packages (from tensorboard<2.9,>=2.8->tensorflow==2.8) (2.27.0)\n",
            "Collecting google-auth-oauthlib<0.5,>=0.4.1 (from tensorboard<2.9,>=2.8->tensorflow==2.8)\n",
            "  Downloading google_auth_oauthlib-0.4.6-py2.py3-none-any.whl.metadata (2.7 kB)\n",
            "Requirement already satisfied: markdown>=2.6.8 in /usr/local/lib/python3.10/dist-packages (from tensorboard<2.9,>=2.8->tensorflow==2.8) (3.7)\n",
            "Requirement already satisfied: requests<3,>=2.21.0 in /usr/local/lib/python3.10/dist-packages (from tensorboard<2.9,>=2.8->tensorflow==2.8) (2.32.3)\n",
            "Collecting tensorboard-data-server<0.7.0,>=0.6.0 (from tensorboard<2.9,>=2.8->tensorflow==2.8)\n",
            "  Downloading tensorboard_data_server-0.6.1-py3-none-manylinux2010_x86_64.whl.metadata (1.1 kB)\n",
            "Collecting tensorboard-plugin-wit>=1.6.0 (from tensorboard<2.9,>=2.8->tensorflow==2.8)\n",
            "  Downloading tensorboard_plugin_wit-1.8.1-py3-none-any.whl.metadata (873 bytes)\n",
            "Requirement already satisfied: werkzeug>=0.11.15 in /usr/local/lib/python3.10/dist-packages (from tensorboard<2.9,>=2.8->tensorflow==2.8) (3.1.3)\n",
            "Requirement already satisfied: cachetools<6.0,>=2.0.0 in /usr/local/lib/python3.10/dist-packages (from google-auth<3,>=1.6.3->tensorboard<2.9,>=2.8->tensorflow==2.8) (5.5.0)\n",
            "Requirement already satisfied: pyasn1-modules>=0.2.1 in /usr/local/lib/python3.10/dist-packages (from google-auth<3,>=1.6.3->tensorboard<2.9,>=2.8->tensorflow==2.8) (0.4.1)\n",
            "Requirement already satisfied: rsa<5,>=3.1.4 in /usr/local/lib/python3.10/dist-packages (from google-auth<3,>=1.6.3->tensorboard<2.9,>=2.8->tensorflow==2.8) (4.9)\n",
            "Requirement already satisfied: requests-oauthlib>=0.7.0 in /usr/local/lib/python3.10/dist-packages (from google-auth-oauthlib<0.5,>=0.4.1->tensorboard<2.9,>=2.8->tensorflow==2.8) (1.3.1)\n",
            "Requirement already satisfied: charset-normalizer<4,>=2 in /usr/local/lib/python3.10/dist-packages (from requests<3,>=2.21.0->tensorboard<2.9,>=2.8->tensorflow==2.8) (3.4.0)\n",
            "Requirement already satisfied: idna<4,>=2.5 in /usr/local/lib/python3.10/dist-packages (from requests<3,>=2.21.0->tensorboard<2.9,>=2.8->tensorflow==2.8) (3.10)\n",
            "Requirement already satisfied: urllib3<3,>=1.21.1 in /usr/local/lib/python3.10/dist-packages (from requests<3,>=2.21.0->tensorboard<2.9,>=2.8->tensorflow==2.8) (2.2.3)\n",
            "Requirement already satisfied: certifi>=2017.4.17 in /usr/local/lib/python3.10/dist-packages (from requests<3,>=2.21.0->tensorboard<2.9,>=2.8->tensorflow==2.8) (2024.8.30)\n",
            "Requirement already satisfied: MarkupSafe>=2.1.1 in /usr/local/lib/python3.10/dist-packages (from werkzeug>=0.11.15->tensorboard<2.9,>=2.8->tensorflow==2.8) (3.0.2)\n",
            "Requirement already satisfied: pyasn1<0.7.0,>=0.4.6 in /usr/local/lib/python3.10/dist-packages (from pyasn1-modules>=0.2.1->google-auth<3,>=1.6.3->tensorboard<2.9,>=2.8->tensorflow==2.8) (0.6.1)\n",
            "Requirement already satisfied: oauthlib>=3.0.0 in /usr/local/lib/python3.10/dist-packages (from requests-oauthlib>=0.7.0->google-auth-oauthlib<0.5,>=0.4.1->tensorboard<2.9,>=2.8->tensorflow==2.8) (3.2.2)\n",
            "Downloading tensorflow-2.8.0-cp310-cp310-manylinux2010_x86_64.whl (497.6 MB)\n",
            "\u001b[2K   \u001b[90m━━━━━━━━━━━━━━━━━━━━━━━━━━━━━━━━━━━━━━━━\u001b[0m \u001b[32m497.6/497.6 MB\u001b[0m \u001b[31m2.2 MB/s\u001b[0m eta \u001b[36m0:00:00\u001b[0m\n",
            "\u001b[?25hDownloading tf_estimator_nightly-2.8.0.dev2021122109-py2.py3-none-any.whl (462 kB)\n",
            "\u001b[2K   \u001b[90m━━━━━━━━━━━━━━━━━━━━━━━━━━━━━━━━━━━━━━━━\u001b[0m \u001b[32m462.5/462.5 kB\u001b[0m \u001b[31m10.5 MB/s\u001b[0m eta \u001b[36m0:00:00\u001b[0m\n",
            "\u001b[?25hDownloading keras-2.8.0-py2.py3-none-any.whl (1.4 MB)\n",
            "\u001b[2K   \u001b[90m━━━━━━━━━━━━━━━━━━━━━━━━━━━━━━━━━━━━━━━━\u001b[0m \u001b[32m1.4/1.4 MB\u001b[0m \u001b[31m24.6 MB/s\u001b[0m eta \u001b[36m0:00:00\u001b[0m\n",
            "\u001b[?25hDownloading Keras_Preprocessing-1.1.2-py2.py3-none-any.whl (42 kB)\n",
            "\u001b[2K   \u001b[90m━━━━━━━━━━━━━━━━━━━━━━━━━━━━━━━━━━━━━━━━\u001b[0m \u001b[32m42.6/42.6 kB\u001b[0m \u001b[31m1.7 MB/s\u001b[0m eta \u001b[36m0:00:00\u001b[0m\n",
            "\u001b[?25hDownloading tensorboard-2.8.0-py3-none-any.whl (5.8 MB)\n",
            "\u001b[2K   \u001b[90m━━━━━━━━━━━━━━━━━━━━━━━━━━━━━━━━━━━━━━━━\u001b[0m \u001b[32m5.8/5.8 MB\u001b[0m \u001b[31m39.1 MB/s\u001b[0m eta \u001b[36m0:00:00\u001b[0m\n",
            "\u001b[?25hDownloading google_auth_oauthlib-0.4.6-py2.py3-none-any.whl (18 kB)\n",
            "Downloading tensorboard_data_server-0.6.1-py3-none-manylinux2010_x86_64.whl (4.9 MB)\n",
            "\u001b[2K   \u001b[90m━━━━━━━━━━━━━━━━━━━━━━━━━━━━━━━━━━━━━━━━\u001b[0m \u001b[32m4.9/4.9 MB\u001b[0m \u001b[31m23.7 MB/s\u001b[0m eta \u001b[36m0:00:00\u001b[0m\n",
            "\u001b[?25hDownloading tensorboard_plugin_wit-1.8.1-py3-none-any.whl (781 kB)\n",
            "\u001b[2K   \u001b[90m━━━━━━━━━━━━━━━━━━━━━━━━━━━━━━━━━━━━━━━━\u001b[0m \u001b[32m781.3/781.3 kB\u001b[0m \u001b[31m22.2 MB/s\u001b[0m eta \u001b[36m0:00:00\u001b[0m\n",
            "\u001b[?25hInstalling collected packages: tf-estimator-nightly, tensorboard-plugin-wit, keras, tensorboard-data-server, keras-preprocessing, google-auth-oauthlib, tensorboard, tensorflow\n",
            "  Attempting uninstall: keras\n",
            "    Found existing installation: keras 3.5.0\n",
            "    Uninstalling keras-3.5.0:\n",
            "      Successfully uninstalled keras-3.5.0\n",
            "  Attempting uninstall: tensorboard-data-server\n",
            "    Found existing installation: tensorboard-data-server 0.7.2\n",
            "    Uninstalling tensorboard-data-server-0.7.2:\n",
            "      Successfully uninstalled tensorboard-data-server-0.7.2\n",
            "  Attempting uninstall: google-auth-oauthlib\n",
            "    Found existing installation: google-auth-oauthlib 1.2.1\n",
            "    Uninstalling google-auth-oauthlib-1.2.1:\n",
            "      Successfully uninstalled google-auth-oauthlib-1.2.1\n",
            "  Attempting uninstall: tensorboard\n",
            "    Found existing installation: tensorboard 2.17.1\n",
            "    Uninstalling tensorboard-2.17.1:\n",
            "      Successfully uninstalled tensorboard-2.17.1\n",
            "  Attempting uninstall: tensorflow\n",
            "    Found existing installation: tensorflow 2.17.1\n",
            "    Uninstalling tensorflow-2.17.1:\n",
            "      Successfully uninstalled tensorflow-2.17.1\n",
            "\u001b[31mERROR: pip's dependency resolver does not currently take into account all the packages that are installed. This behaviour is the source of the following dependency conflicts.\n",
            "pandas-gbq 0.24.0 requires google-auth-oauthlib>=0.7.0, but you have google-auth-oauthlib 0.4.6 which is incompatible.\n",
            "tf-keras 2.17.0 requires tensorflow<2.18,>=2.17, but you have tensorflow 2.8.0 which is incompatible.\u001b[0m\u001b[31m\n",
            "\u001b[0mSuccessfully installed google-auth-oauthlib-0.4.6 keras-2.8.0 keras-preprocessing-1.1.2 tensorboard-2.8.0 tensorboard-data-server-0.6.1 tensorboard-plugin-wit-1.8.1 tensorflow-2.8.0 tf-estimator-nightly-2.8.0.dev2021122109\n"
          ]
        }
      ]
    },
    {
      "cell_type": "code",
      "source": [
        "!pip install protobuf==3.20.3\n"
      ],
      "metadata": {
        "colab": {
          "base_uri": "https://localhost:8080/",
          "height": 357
        },
        "id": "0Lta0i7bXbQv",
        "outputId": "7b9494d7-270f-4c37-b67f-63a32186aaf9"
      },
      "id": "0Lta0i7bXbQv",
      "execution_count": 14,
      "outputs": [
        {
          "output_type": "stream",
          "name": "stdout",
          "text": [
            "Collecting protobuf==3.20.3\n",
            "  Downloading protobuf-3.20.3-cp310-cp310-manylinux_2_12_x86_64.manylinux2010_x86_64.whl.metadata (679 bytes)\n",
            "Downloading protobuf-3.20.3-cp310-cp310-manylinux_2_12_x86_64.manylinux2010_x86_64.whl (1.1 MB)\n",
            "\u001b[?25l   \u001b[90m━━━━━━━━━━━━━━━━━━━━━━━━━━━━━━━━━━━━━━━━\u001b[0m \u001b[32m0.0/1.1 MB\u001b[0m \u001b[31m?\u001b[0m eta \u001b[36m-:--:--\u001b[0m\r\u001b[2K   \u001b[91m━━━━\u001b[0m\u001b[91m╸\u001b[0m\u001b[90m━━━━━━━━━━━━━━━━━━━━━━━━━━━━━━━━━━━\u001b[0m \u001b[32m0.1/1.1 MB\u001b[0m \u001b[31m3.6 MB/s\u001b[0m eta \u001b[36m0:00:01\u001b[0m\r\u001b[2K   \u001b[91m━━━━━━━━━━━━━━━━━━━━━━\u001b[0m\u001b[91m╸\u001b[0m\u001b[90m━━━━━━━━━━━━━━━━━\u001b[0m \u001b[32m0.6/1.1 MB\u001b[0m \u001b[31m8.5 MB/s\u001b[0m eta \u001b[36m0:00:01\u001b[0m\r\u001b[2K   \u001b[90m━━━━━━━━━━━━━━━━━━━━━━━━━━━━━━━━━━━━━━━━\u001b[0m \u001b[32m1.1/1.1 MB\u001b[0m \u001b[31m11.5 MB/s\u001b[0m eta \u001b[36m0:00:00\u001b[0m\n",
            "\u001b[?25hInstalling collected packages: protobuf\n",
            "  Attempting uninstall: protobuf\n",
            "    Found existing installation: protobuf 4.25.5\n",
            "    Uninstalling protobuf-4.25.5:\n",
            "      Successfully uninstalled protobuf-4.25.5\n",
            "\u001b[31mERROR: pip's dependency resolver does not currently take into account all the packages that are installed. This behaviour is the source of the following dependency conflicts.\n",
            "grpcio-status 1.62.3 requires protobuf>=4.21.6, but you have protobuf 3.20.3 which is incompatible.\n",
            "pandas-gbq 0.24.0 requires google-auth-oauthlib>=0.7.0, but you have google-auth-oauthlib 0.4.6 which is incompatible.\n",
            "tf-keras 2.17.0 requires tensorflow<2.18,>=2.17, but you have tensorflow 2.8.0 which is incompatible.\u001b[0m\u001b[31m\n",
            "\u001b[0mSuccessfully installed protobuf-3.20.3\n"
          ]
        },
        {
          "output_type": "display_data",
          "data": {
            "application/vnd.colab-display-data+json": {
              "pip_warning": {
                "packages": [
                  "google"
                ]
              },
              "id": "cf30f4dafc2141dcae7fbb2514ff1376"
            }
          },
          "metadata": {}
        }
      ]
    },
    {
      "cell_type": "code",
      "execution_count": 1,
      "id": "a6cd319f-4272-4868-b477-09c61a06faa0",
      "metadata": {
        "id": "a6cd319f-4272-4868-b477-09c61a06faa0"
      },
      "outputs": [],
      "source": [
        "urls = [\n",
        "        \"http://kdd.ics.uci.edu/databases/kddcup99/kddcup.data_10_percent.gz\",\n",
        "        \"http://kdd.ics.uci.edu/databases/kddcup99/kddcup.names\"\n",
        "        ]"
      ]
    },
    {
      "cell_type": "code",
      "execution_count": 2,
      "id": "a02b92db-a955-4763-afd3-72cab34d9938",
      "metadata": {
        "id": "a02b92db-a955-4763-afd3-72cab34d9938"
      },
      "outputs": [],
      "source": [
        "import numpy as np\n",
        "import pandas as pd\n",
        "#첫번째 행(레이블(status)를 제외하고 생성)\n",
        "#이름과 데이터 종류로 나눔\n",
        "df_colnames = pd.read_csv(urls[1], skiprows=1, sep=':', names=['f_names', 'f_types'])\n",
        "#마지막에 레이블을 추가: 레이블은 범주형\n",
        "df_colnames.loc[df_colnames.shape[0]] = ['status', 'symbolic']\n",
        "\n",
        "# 데이터 불러옴 : colname을 df_colnames로 설정\n",
        "df = pd.read_csv(urls[0], header=None, names=df_colnames['f_names'].values)\n",
        "# 범주형 데이터의 df_colnames\n",
        "df_symbolic = df_colnames[df_colnames['f_types'].str.contains('symbolic.')]\n",
        "# 연속형 데이터의 df_colnames\n",
        "df_continuous = df_colnames[df_colnames['f_types'].str.contains('continuous.')]\n",
        "\n",
        "# 범주형 타입의 열만 원핫인코딩+레이블 제거하고 데이터 생성\n",
        "samples = pd.get_dummies(df.iloc[:, :-1], columns = df_symbolic['f_names'][:-1])\n",
        "\n",
        "# normal이면 1, 아니면 0으로 레이블 생\n",
        "labels = np.where(df['status'] == 'normal.',1,0)"
      ]
    },
    {
      "cell_type": "code",
      "execution_count": 3,
      "id": "b800f226-0927-4a31-ad82-b0d2d7adc503",
      "metadata": {
        "colab": {
          "base_uri": "https://localhost:8080/"
        },
        "id": "b800f226-0927-4a31-ad82-b0d2d7adc503",
        "outputId": "277dae31-5752-4fed-bee8-2163c108a3c0"
      },
      "outputs": [
        {
          "output_type": "stream",
          "name": "stdout",
          "text": [
            "(494021, 42)\n",
            "(494021, 120)\n"
          ]
        }
      ],
      "source": [
        "# 원핫인코딩을 했기 때문에 n개의 고유값을 가지는 범주형 특성이 n개의 특성으로 분리됨\n",
        "print(df.shape)\n",
        "print(samples.shape)"
      ]
    },
    {
      "cell_type": "code",
      "execution_count": 4,
      "id": "2ad98e06-66dc-487a-96f2-3654231c61e7",
      "metadata": {
        "id": "2ad98e06-66dc-487a-96f2-3654231c61e7"
      },
      "outputs": [],
      "source": [
        "# 정규화\n",
        "from sklearn.preprocessing import MinMaxScaler\n",
        "scaler = MinMaxScaler()\n",
        "df_scaled = scaler.fit_transform(samples)"
      ]
    },
    {
      "cell_type": "code",
      "execution_count": 5,
      "id": "7ae2cab6-35a9-49c7-9626-f5b375770379",
      "metadata": {
        "id": "7ae2cab6-35a9-49c7-9626-f5b375770379"
      },
      "outputs": [],
      "source": [
        "# 일반 데이터와 공격받은 데이터로 분리\n",
        "norm_samples = df_scaled[labels==1]\n",
        "attack_samples = df_scaled[labels==0]\n",
        "\n",
        "#레이블도 분리\n",
        "norm_labels = labels[labels==1]\n",
        "attack_labels = labels[labels==0]"
      ]
    },
    {
      "cell_type": "code",
      "execution_count": 6,
      "id": "b4bd225b-a812-47f4-ab2a-ea9e38ed8ee7",
      "metadata": {
        "colab": {
          "base_uri": "https://localhost:8080/"
        },
        "id": "b4bd225b-a812-47f4-ab2a-ea9e38ed8ee7",
        "outputId": "a30f6bfb-f20e-4f21-fa55-2e51cfddb946"
      },
      "outputs": [
        {
          "output_type": "stream",
          "name": "stdout",
          "text": [
            "(97278, 120) (396743, 120)\n",
            "(97278,) (396743,)\n"
          ]
        }
      ],
      "source": [
        "print(norm_samples.shape, attack_samples.shape)\n",
        "print(norm_labels.shape, attack_labels.shape)"
      ]
    },
    {
      "cell_type": "code",
      "execution_count": 7,
      "id": "2d12cd9f-025b-4ca4-9ae3-334a855855ca",
      "metadata": {
        "id": "2d12cd9f-025b-4ca4-9ae3-334a855855ca"
      },
      "outputs": [],
      "source": [
        "# 훈련 세트와 테스트 세트로 분리\n",
        "# 훈련세트는 전부 정상데이터\n",
        "# 테스트 세트는 50퍼센트의 공격 데이터와 50퍼센트의 정상데이터로 구성\n",
        "\n",
        "# 훈련 세트 생성\n",
        "len_norm = len(norm_samples) # 정상 데이터의 길이\n",
        "len_norm_train = int(0.8*len_norm) # 정상 데이터의 80퍼센트 사용\n",
        "x_train = norm_samples[:len_norm_train] # 정상 데이터의 80 퍼센트 사용\n",
        "\n",
        "# 테스트 세트 생성\n",
        "x_test_norm = norm_samples[len_norm_train:] # 정상 데이터의 나머지 20퍼센트 사용\n",
        "len_attack_test = len(x_test_norm)          # 비율 유지를 위해서 길이 추출\n",
        "x_test_attack = attack_samples[:len_attack_test] # 같은 길이로 비정상 데이터 추출\n",
        "\n",
        "x_test = np.concatenate([x_test_norm, x_test_attack]) # 두 데이터 병합\n",
        "y_test = np.ones(len(x_test)) # 레이블 생성 : 정상데이터는 1로\n",
        "y_test[:len(x_test_norm)] = 0 # 레이블 생성 : 비정상데이터는 0으로 설정"
      ]
    },
    {
      "cell_type": "code",
      "execution_count": 8,
      "id": "d17db0aa-c736-4cea-9022-dce1c8a8cf54",
      "metadata": {
        "colab": {
          "base_uri": "https://localhost:8080/"
        },
        "id": "d17db0aa-c736-4cea-9022-dce1c8a8cf54",
        "outputId": "302fb1fb-a70c-48c6-ae89-9ae44033e2fb"
      },
      "outputs": [
        {
          "output_type": "stream",
          "name": "stdout",
          "text": [
            "(77822, 120) (38912, 120)\n",
            "(38912,)\n"
          ]
        }
      ],
      "source": [
        "print(x_train.shape, x_test.shape)\n",
        "print(y_test.shape)"
      ]
    },
    {
      "cell_type": "markdown",
      "id": "9f7dd00b-ae75-43ae-81c5-63b0656dc160",
      "metadata": {
        "id": "9f7dd00b-ae75-43ae-81c5-63b0656dc160"
      },
      "source": [
        "## 2. compile a model"
      ]
    },
    {
      "cell_type": "code",
      "execution_count": 9,
      "id": "9b73b1f0-8471-4c09-bf95-9f4bc45bb955",
      "metadata": {
        "id": "9b73b1f0-8471-4c09-bf95-9f4bc45bb955"
      },
      "outputs": [],
      "source": [
        "original_dim = x_train.shape[1] # 121\n",
        "input_shape = (original_dim,) # 121\n",
        "intermediate_dim = int(original_dim/ 2) # 60\n",
        "latent_dim = int(original_dim / 3)  # 40"
      ]
    },
    {
      "cell_type": "code",
      "execution_count": 12,
      "id": "1113dea2-8f7c-4e54-a13a-4aa47414ad23",
      "metadata": {
        "colab": {
          "base_uri": "https://localhost:8080/"
        },
        "id": "1113dea2-8f7c-4e54-a13a-4aa47414ad23",
        "outputId": "f2534f75-40e1-4a7a-8f1d-0d0b5aaa5baf"
      },
      "outputs": [
        {
          "output_type": "stream",
          "name": "stdout",
          "text": [
            "Model: \"encoder\"\n",
            "__________________________________________________________________________________________________\n",
            " Layer (type)                   Output Shape         Param #     Connected to                     \n",
            "==================================================================================================\n",
            " encoder_input (InputLayer)     [(None, 120)]        0           []                               \n",
            "                                                                                                  \n",
            " dense_1 (Dense)                (None, 60)           7260        ['encoder_input[0][0]']          \n",
            "                                                                                                  \n",
            " z_mean (Dense)                 (None, 40)           2440        ['dense_1[0][0]']                \n",
            "                                                                                                  \n",
            " z_log_var (Dense)              (None, 40)           2440        ['dense_1[0][0]']                \n",
            "                                                                                                  \n",
            " z (Lambda)                     (None, 40)           0           ['z_mean[0][0]',                 \n",
            "                                                                  'z_log_var[0][0]']              \n",
            "                                                                                                  \n",
            "==================================================================================================\n",
            "Total params: 12,140\n",
            "Trainable params: 12,140\n",
            "Non-trainable params: 0\n",
            "__________________________________________________________________________________________________\n"
          ]
        }
      ],
      "source": [
        "# 인코더 모델\n",
        "from keras.layers import Input, Dense, Lambda\n",
        "from keras.models import Model\n",
        "import keras.backend as K\n",
        "\n",
        "inputs = Input(shape= input_shape, name='encoder_input') # 입력층 생성\n",
        "x = Dense(intermediate_dim, activation='relu')(inputs) # 첫번째 밀집층\n",
        "z_mean = Dense(latent_dim, name=\"z_mean\")(x)        #첫번째 밀집층의 출력을 이용하여 평균을 만듬\n",
        "z_log_var = Dense(latent_dim, name='z_log_var')(x)  #첫번째 밀칩층의 출력을 이용하여 표준편차를 만듬\n",
        "\n",
        "# sample 함수 생성\n",
        "from keras import backend as K\n",
        "\n",
        "def sample(args): # 잠재 백터 z를 생성하는 sample함수\n",
        "    z_mean, z_log_sigma = args # 받은 매개변수를 평균과 분산으로 분리\n",
        "    batch_size  = K.shape(z_mean)[0] # batch_size는 입력 데이터의 배치\n",
        "    # 평균 0,표준편차 1을 따르는 표준분포에서 랜덤한 벡터를 생성\n",
        "    epsilon = K.random_normal(shape=(batch_size, latent_dim), mean=0, stddev=1.)\n",
        "    return z_mean + z_log_sigma *epsilon # z = 평균 + 분산*앱실론\n",
        "\n",
        "z = Lambda(sample, output_shape=(latent_dim,), name='z')([z_mean, z_log_var]) # 잠재벡터 z 생성\n",
        "encoder= Model(inputs, [z, z_mean, z_log_var], name='encoder') # 인코더 생성\n",
        "encoder.summary()"
      ]
    },
    {
      "cell_type": "markdown",
      "id": "776b8f3e-f3a7-49d9-931d-14193f63eeea",
      "metadata": {
        "id": "776b8f3e-f3a7-49d9-931d-14193f63eeea"
      },
      "source": [
        "## ※프로그램 위에서 latent space에 대한 설명\n",
        "- 실제로 프로그램 위에서 latent space는 존재하지 않고 구현되어 있지도 않음\n",
        "- 인코더 모델이 학습하면서 각 입력 데이터에 대해 최적의 z_평균과 z_분산을 계산하고 이를 기반으로 z를 샘플링함\n",
        "- 이렇게 함으로써 샘플링된 z는 잠재공간에서 데이터를 표현하는 것 처럼 작동함\n"
      ]
    },
    {
      "cell_type": "code",
      "execution_count": 13,
      "id": "fe8bb118-c99c-41f2-b488-82c68dd9878c",
      "metadata": {
        "colab": {
          "base_uri": "https://localhost:8080/"
        },
        "id": "fe8bb118-c99c-41f2-b488-82c68dd9878c",
        "outputId": "11dabfeb-28f9-4a81-b326-8ab15de25b87"
      },
      "outputs": [
        {
          "output_type": "stream",
          "name": "stdout",
          "text": [
            "Model: \"decoder\"\n",
            "_________________________________________________________________\n",
            " Layer (type)                Output Shape              Param #   \n",
            "=================================================================\n",
            " z_sampling (InputLayer)     [(None, 40)]              0         \n",
            "                                                                 \n",
            " dense_2 (Dense)             (None, 60)                2460      \n",
            "                                                                 \n",
            " dense_3 (Dense)             (None, 120)               7320      \n",
            "                                                                 \n",
            "=================================================================\n",
            "Total params: 9,780\n",
            "Trainable params: 9,780\n",
            "Non-trainable params: 0\n",
            "_________________________________________________________________\n"
          ]
        }
      ],
      "source": [
        "# 디코더 모델\n",
        "## 마찬가지로 디코더에서도 space에서 실제로 데이터를 샘플링 하는 것은 아니다\n",
        "## 인코더가 생성하는 잠재변수가 그 자체로 공간에서 샘플링한 효과를 내기 때문에 샘플링한것과 같은 효과를 낸다.\n",
        "\n",
        "latent_inputs = Input(shape=(latent_dim,), name = 'z_sampling') #복원할 벡터를 넣는 디코더의 입력층\n",
        "x = Dense(intermediate_dim, activation='relu')(latent_inputs)   #첫번째 밀집층\n",
        "outputs = Dense(original_dim, activation='sigmoid')(x)          #출력층 : 원래 데이터의 차원 수로 복원\n",
        "decoder = Model(latent_inputs, outputs, name='decoder')         #디코더 생성\n",
        "decoder.summary()"
      ]
    },
    {
      "cell_type": "code",
      "execution_count": 14,
      "id": "aaa7589c-4c4e-42de-85de-922e3d956a8f",
      "metadata": {
        "id": "aaa7589c-4c4e-42de-85de-922e3d956a8f"
      },
      "outputs": [],
      "source": [
        "# VAE 생성\n",
        "# 내 생각에 문제가 되는 부분\n",
        "z, z_mean, z_log_var = encoder(inputs) # 인코더에서 inputs을 넣어서 3개의 값을 받음 -> z값을 전역변수\n",
        "outputs = decoder(z)                   # 잠재 벡터 z를 넣음 -> outputs\n",
        "vae = Model(inputs, outputs, name='VAE_mlp') # inputs과 outputs로 VAE모델 생성"
      ]
    },
    {
      "cell_type": "code",
      "execution_count": 15,
      "id": "b9131b52-51f3-4f7e-ab45-2ec53bedba44",
      "metadata": {
        "id": "b9131b52-51f3-4f7e-ab45-2ec53bedba44"
      },
      "outputs": [],
      "source": [
        "# loss 함수 생성 : reconstruction error + KL divergence\n",
        "# x_decoded_mean : 디코더의 출력값(복원 데이터)\n",
        "# z_mean: 인코더에서 추출된 잠재공간 분포의 평균\n",
        "# z_log_sigma: 인코더에서 추출된 잠재공간 분포의 로그분산\n",
        "\n",
        "# def vae_loss(x, x_decoded_mean, z_mean, z_log_sigma):\n",
        "#     reconstruction_loss = K.sum(K.square(x - x_decoded_mean), axis=1)\n",
        "#     kl_loss = -0.5 * K.sum(1 + z_log_sigma - K.square(z_mean) - K.exp(z_log_sigma), axis=-1)\n",
        "#     kl_loss_weighted = kl_loss * 0.001 #KL divergence의 중요도를 조정 -> 초기학습에서 Reconloss가 우선적으로 작동하도록 설정\n",
        "#     total_loss = K.mean(reconstruction_loss + kl_loss_weighted)\n",
        "#     return total_loss\n",
        "\n",
        "import tensorflow as tf\n",
        "\n",
        "def vae_loss(inputs, outputs):\n",
        "    # 재구성 손실 : (실제갑 - 예측값) 의 제곱\n",
        "    reconstruction_loss = K.sum(K.square(inputs - outputs), axis=1)\n",
        "\n",
        "    # KL 발산 손실\n",
        "    kl_loss = -0.5 *K.sum(1 + z_log_var - K.square(z_mean) - K.exp(z_log_var), axis=-1)\n",
        "    # KL 발산 가중치 적용\n",
        "    kl_loss_weighted = kl_loss * 0.001\n",
        "\n",
        "    # 총 손실 반환\n",
        "    return K.mean(reconstruction_loss + kl_loss_weighted)"
      ]
    },
    {
      "cell_type": "code",
      "execution_count": 20,
      "id": "1d6b639e-5ac3-4d67-b812-055f6883e477",
      "metadata": {
        "colab": {
          "base_uri": "https://localhost:8080/"
        },
        "id": "1d6b639e-5ac3-4d67-b812-055f6883e477",
        "outputId": "ba0aede5-fd72-41d2-984a-1d7043b8b6ab"
      },
      "outputs": [
        {
          "output_type": "stream",
          "name": "stdout",
          "text": [
            "Model: \"VAE_mlp\"\n",
            "__________________________________________________________________________________________________\n",
            " Layer (type)                   Output Shape         Param #     Connected to                     \n",
            "==================================================================================================\n",
            " encoder_input (InputLayer)     [(None, 120)]        0           []                               \n",
            "                                                                                                  \n",
            " encoder (Functional)           [(None, 40),         12140       ['encoder_input[0][0]']          \n",
            "                                 (None, 40),                                                      \n",
            "                                 (None, 40)]                                                      \n",
            "                                                                                                  \n",
            " decoder (Functional)           (None, 120)          9780        ['encoder[0][0]']                \n",
            "                                                                                                  \n",
            " tf.__operators__.add (TFOpLamb  (None, 40)          0           ['encoder[0][2]']                \n",
            " da)                                                                                              \n",
            "                                                                                                  \n",
            " tf.math.square_1 (TFOpLambda)  (None, 40)           0           ['encoder[0][1]']                \n",
            "                                                                                                  \n",
            " tf.math.subtract_1 (TFOpLambda  (None, 40)          0           ['tf.__operators__.add[0][0]',   \n",
            " )                                                                'tf.math.square_1[0][0]']       \n",
            "                                                                                                  \n",
            " tf.math.exp (TFOpLambda)       (None, 40)           0           ['encoder[0][2]']                \n",
            "                                                                                                  \n",
            " tf.math.subtract_2 (TFOpLambda  (None, 40)          0           ['tf.math.subtract_1[0][0]',     \n",
            " )                                                                'tf.math.exp[0][0]']            \n",
            "                                                                                                  \n",
            " tf.math.subtract (TFOpLambda)  (None, 120)          0           ['encoder_input[0][0]',          \n",
            "                                                                  'decoder[0][0]']                \n",
            "                                                                                                  \n",
            " tf.math.reduce_sum_1 (TFOpLamb  (None,)             0           ['tf.math.subtract_2[0][0]']     \n",
            " da)                                                                                              \n",
            "                                                                                                  \n",
            " tf.math.square (TFOpLambda)    (None, 120)          0           ['tf.math.subtract[0][0]']       \n",
            "                                                                                                  \n",
            " tf.math.multiply (TFOpLambda)  (None,)              0           ['tf.math.reduce_sum_1[0][0]']   \n",
            "                                                                                                  \n",
            " tf.math.reduce_sum (TFOpLambda  (None,)             0           ['tf.math.square[0][0]']         \n",
            " )                                                                                                \n",
            "                                                                                                  \n",
            " tf.math.multiply_1 (TFOpLambda  (None,)             0           ['tf.math.multiply[0][0]']       \n",
            " )                                                                                                \n",
            "                                                                                                  \n",
            " tf.__operators__.add_1 (TFOpLa  (None,)             0           ['tf.math.reduce_sum[0][0]',     \n",
            " mbda)                                                            'tf.math.multiply_1[0][0]']     \n",
            "                                                                                                  \n",
            " tf.math.reduce_mean (TFOpLambd  ()                  0           ['tf.__operators__.add_1[0][0]'] \n",
            " a)                                                                                               \n",
            "                                                                                                  \n",
            " add_loss (AddLoss)             ()                   0           ['tf.math.reduce_mean[0][0]']    \n",
            "                                                                                                  \n",
            " tf.__operators__.add_2 (TFOpLa  (None, 40)          0           ['encoder[0][2]']                \n",
            " mbda)                                                                                            \n",
            "                                                                                                  \n",
            " tf.math.square_3 (TFOpLambda)  (None, 40)           0           ['encoder[0][1]']                \n",
            "                                                                                                  \n",
            " tf.math.subtract_4 (TFOpLambda  (None, 40)          0           ['tf.__operators__.add_2[0][0]', \n",
            " )                                                                'tf.math.square_3[0][0]']       \n",
            "                                                                                                  \n",
            " tf.math.exp_1 (TFOpLambda)     (None, 40)           0           ['encoder[0][2]']                \n",
            "                                                                                                  \n",
            " tf.math.subtract_5 (TFOpLambda  (None, 40)          0           ['tf.math.subtract_4[0][0]',     \n",
            " )                                                                'tf.math.exp_1[0][0]']          \n",
            "                                                                                                  \n",
            " tf.math.subtract_3 (TFOpLambda  (None, 120)         0           ['encoder_input[0][0]',          \n",
            " )                                                                'decoder[0][0]']                \n",
            "                                                                                                  \n",
            " tf.math.reduce_sum_3 (TFOpLamb  (None,)             0           ['tf.math.subtract_5[0][0]']     \n",
            " da)                                                                                              \n",
            "                                                                                                  \n",
            " tf.math.square_2 (TFOpLambda)  (None, 120)          0           ['tf.math.subtract_3[0][0]']     \n",
            "                                                                                                  \n",
            " tf.math.multiply_2 (TFOpLambda  (None,)             0           ['tf.math.reduce_sum_3[0][0]']   \n",
            " )                                                                                                \n",
            "                                                                                                  \n",
            " tf.math.reduce_sum_2 (TFOpLamb  (None,)             0           ['tf.math.square_2[0][0]']       \n",
            " da)                                                                                              \n",
            "                                                                                                  \n",
            " tf.math.multiply_3 (TFOpLambda  (None,)             0           ['tf.math.multiply_2[0][0]']     \n",
            " )                                                                                                \n",
            "                                                                                                  \n",
            " tf.__operators__.add_3 (TFOpLa  (None,)             0           ['tf.math.reduce_sum_2[0][0]',   \n",
            " mbda)                                                            'tf.math.multiply_3[0][0]']     \n",
            "                                                                                                  \n",
            " tf.math.reduce_mean_1 (TFOpLam  ()                  0           ['tf.__operators__.add_3[0][0]'] \n",
            " bda)                                                                                             \n",
            "                                                                                                  \n",
            " add_loss_1 (AddLoss)           ()                   0           ['tf.math.reduce_mean_1[0][0]']  \n",
            "                                                                                                  \n",
            " tf.__operators__.add_4 (TFOpLa  (None, 40)          0           ['encoder[0][2]']                \n",
            " mbda)                                                                                            \n",
            "                                                                                                  \n",
            " tf.math.square_5 (TFOpLambda)  (None, 40)           0           ['encoder[0][1]']                \n",
            "                                                                                                  \n",
            " tf.math.subtract_7 (TFOpLambda  (None, 40)          0           ['tf.__operators__.add_4[0][0]', \n",
            " )                                                                'tf.math.square_5[0][0]']       \n",
            "                                                                                                  \n",
            " tf.math.exp_2 (TFOpLambda)     (None, 40)           0           ['encoder[0][2]']                \n",
            "                                                                                                  \n",
            " tf.math.subtract_8 (TFOpLambda  (None, 40)          0           ['tf.math.subtract_7[0][0]',     \n",
            " )                                                                'tf.math.exp_2[0][0]']          \n",
            "                                                                                                  \n",
            " tf.math.subtract_6 (TFOpLambda  (None, 120)         0           ['encoder_input[0][0]',          \n",
            " )                                                                'decoder[0][0]']                \n",
            "                                                                                                  \n",
            " tf.math.reduce_sum_5 (TFOpLamb  (None,)             0           ['tf.math.subtract_8[0][0]']     \n",
            " da)                                                                                              \n",
            "                                                                                                  \n",
            " tf.math.square_4 (TFOpLambda)  (None, 120)          0           ['tf.math.subtract_6[0][0]']     \n",
            "                                                                                                  \n",
            " tf.math.multiply_4 (TFOpLambda  (None,)             0           ['tf.math.reduce_sum_5[0][0]']   \n",
            " )                                                                                                \n",
            "                                                                                                  \n",
            " tf.math.reduce_sum_4 (TFOpLamb  (None,)             0           ['tf.math.square_4[0][0]']       \n",
            " da)                                                                                              \n",
            "                                                                                                  \n",
            " tf.math.multiply_5 (TFOpLambda  (None,)             0           ['tf.math.multiply_4[0][0]']     \n",
            " )                                                                                                \n",
            "                                                                                                  \n",
            " tf.__operators__.add_5 (TFOpLa  (None,)             0           ['tf.math.reduce_sum_4[0][0]',   \n",
            " mbda)                                                            'tf.math.multiply_5[0][0]']     \n",
            "                                                                                                  \n",
            " tf.math.reduce_mean_2 (TFOpLam  ()                  0           ['tf.__operators__.add_5[0][0]'] \n",
            " bda)                                                                                             \n",
            "                                                                                                  \n",
            " add_loss_2 (AddLoss)           ()                   0           ['tf.math.reduce_mean_2[0][0]']  \n",
            "                                                                                                  \n",
            " tf.__operators__.add_6 (TFOpLa  (None, 40)          0           ['encoder[0][2]']                \n",
            " mbda)                                                                                            \n",
            "                                                                                                  \n",
            " tf.math.square_7 (TFOpLambda)  (None, 40)           0           ['encoder[0][1]']                \n",
            "                                                                                                  \n",
            " tf.math.subtract_10 (TFOpLambd  (None, 40)          0           ['tf.__operators__.add_6[0][0]', \n",
            " a)                                                               'tf.math.square_7[0][0]']       \n",
            "                                                                                                  \n",
            " tf.math.exp_3 (TFOpLambda)     (None, 40)           0           ['encoder[0][2]']                \n",
            "                                                                                                  \n",
            " tf.math.subtract_11 (TFOpLambd  (None, 40)          0           ['tf.math.subtract_10[0][0]',    \n",
            " a)                                                               'tf.math.exp_3[0][0]']          \n",
            "                                                                                                  \n",
            " tf.math.subtract_9 (TFOpLambda  (None, 120)         0           ['encoder_input[0][0]',          \n",
            " )                                                                'decoder[0][0]']                \n",
            "                                                                                                  \n",
            " tf.math.reduce_sum_7 (TFOpLamb  (None,)             0           ['tf.math.subtract_11[0][0]']    \n",
            " da)                                                                                              \n",
            "                                                                                                  \n",
            " tf.math.square_6 (TFOpLambda)  (None, 120)          0           ['tf.math.subtract_9[0][0]']     \n",
            "                                                                                                  \n",
            " tf.math.multiply_6 (TFOpLambda  (None,)             0           ['tf.math.reduce_sum_7[0][0]']   \n",
            " )                                                                                                \n",
            "                                                                                                  \n",
            " tf.math.reduce_sum_6 (TFOpLamb  (None,)             0           ['tf.math.square_6[0][0]']       \n",
            " da)                                                                                              \n",
            "                                                                                                  \n",
            " tf.math.multiply_7 (TFOpLambda  (None,)             0           ['tf.math.multiply_6[0][0]']     \n",
            " )                                                                                                \n",
            "                                                                                                  \n",
            " tf.__operators__.add_7 (TFOpLa  (None,)             0           ['tf.math.reduce_sum_6[0][0]',   \n",
            " mbda)                                                            'tf.math.multiply_7[0][0]']     \n",
            "                                                                                                  \n",
            " tf.math.reduce_mean_3 (TFOpLam  ()                  0           ['tf.__operators__.add_7[0][0]'] \n",
            " bda)                                                                                             \n",
            "                                                                                                  \n",
            " add_loss_3 (AddLoss)           ()                   0           ['tf.math.reduce_mean_3[0][0]']  \n",
            "                                                                                                  \n",
            " tf.__operators__.add_8 (TFOpLa  (None, 40)          0           ['encoder[0][2]']                \n",
            " mbda)                                                                                            \n",
            "                                                                                                  \n",
            " tf.math.square_9 (TFOpLambda)  (None, 40)           0           ['encoder[0][1]']                \n",
            "                                                                                                  \n",
            " tf.math.subtract_13 (TFOpLambd  (None, 40)          0           ['tf.__operators__.add_8[0][0]', \n",
            " a)                                                               'tf.math.square_9[0][0]']       \n",
            "                                                                                                  \n",
            " tf.math.exp_4 (TFOpLambda)     (None, 40)           0           ['encoder[0][2]']                \n",
            "                                                                                                  \n",
            " tf.math.subtract_14 (TFOpLambd  (None, 40)          0           ['tf.math.subtract_13[0][0]',    \n",
            " a)                                                               'tf.math.exp_4[0][0]']          \n",
            "                                                                                                  \n",
            " tf.math.subtract_12 (TFOpLambd  (None, 120)         0           ['encoder_input[0][0]',          \n",
            " a)                                                               'decoder[0][0]']                \n",
            "                                                                                                  \n",
            " tf.math.reduce_sum_9 (TFOpLamb  (None,)             0           ['tf.math.subtract_14[0][0]']    \n",
            " da)                                                                                              \n",
            "                                                                                                  \n",
            " tf.math.square_8 (TFOpLambda)  (None, 120)          0           ['tf.math.subtract_12[0][0]']    \n",
            "                                                                                                  \n",
            " tf.math.multiply_8 (TFOpLambda  (None,)             0           ['tf.math.reduce_sum_9[0][0]']   \n",
            " )                                                                                                \n",
            "                                                                                                  \n",
            " tf.math.reduce_sum_8 (TFOpLamb  (None,)             0           ['tf.math.square_8[0][0]']       \n",
            " da)                                                                                              \n",
            "                                                                                                  \n",
            " tf.math.multiply_9 (TFOpLambda  (None,)             0           ['tf.math.multiply_8[0][0]']     \n",
            " )                                                                                                \n",
            "                                                                                                  \n",
            " tf.__operators__.add_9 (TFOpLa  (None,)             0           ['tf.math.reduce_sum_8[0][0]',   \n",
            " mbda)                                                            'tf.math.multiply_9[0][0]']     \n",
            "                                                                                                  \n",
            " tf.math.reduce_mean_4 (TFOpLam  ()                  0           ['tf.__operators__.add_9[0][0]'] \n",
            " bda)                                                                                             \n",
            "                                                                                                  \n",
            " add_loss_4 (AddLoss)           ()                   0           ['tf.math.reduce_mean_4[0][0]']  \n",
            "                                                                                                  \n",
            "==================================================================================================\n",
            "Total params: 21,920\n",
            "Trainable params: 21,920\n",
            "Non-trainable params: 0\n",
            "__________________________________________________________________________________________________\n"
          ]
        }
      ],
      "source": [
        "# 모델 compile\n",
        "from keras import optimizers\n",
        "import tensorflow as tf\n",
        "\n",
        "# Adam 옵티마이저 정의\n",
        "opt = tf.keras.optimizers.Adam(learning_rate=0.001)\n",
        "\n",
        "vae.add_loss(vae_loss(inputs, outputs))\n",
        "\n",
        "\n",
        "vae.compile(optimizer = opt)\n",
        "vae.summary()"
      ]
    },
    {
      "cell_type": "markdown",
      "id": "3233be57-fb12-4981-a2e9-471d384004b3",
      "metadata": {
        "id": "3233be57-fb12-4981-a2e9-471d384004b3"
      },
      "source": [
        "# 3. train"
      ]
    },
    {
      "cell_type": "code",
      "execution_count": 21,
      "id": "2e9d9828-3527-4e2d-b3a9-7ae1bb4c9ee7",
      "metadata": {
        "colab": {
          "base_uri": "https://localhost:8080/"
        },
        "id": "2e9d9828-3527-4e2d-b3a9-7ae1bb4c9ee7",
        "outputId": "891599de-39a9-4648-8187-60a47c6baba3"
      },
      "outputs": [
        {
          "output_type": "stream",
          "name": "stdout",
          "text": [
            "Epoch 1/32\n",
            "304/304 [==============================] - 4s 8ms/step - loss: 15.0017\n",
            "Epoch 2/32\n",
            "304/304 [==============================] - 2s 6ms/step - loss: 1.0181\n",
            "Epoch 3/32\n",
            "304/304 [==============================] - 1s 5ms/step - loss: 0.5910\n",
            "Epoch 4/32\n",
            "304/304 [==============================] - 1s 5ms/step - loss: 0.4649\n",
            "Epoch 5/32\n",
            "304/304 [==============================] - 1s 5ms/step - loss: 0.3983\n",
            "Epoch 6/32\n",
            "304/304 [==============================] - 1s 5ms/step - loss: 0.3201\n",
            "Epoch 7/32\n",
            "304/304 [==============================] - 1s 5ms/step - loss: 0.2455\n",
            "Epoch 8/32\n",
            "304/304 [==============================] - 1s 5ms/step - loss: 0.2232\n",
            "Epoch 9/32\n",
            "304/304 [==============================] - 2s 7ms/step - loss: 0.1918\n",
            "Epoch 10/32\n",
            "304/304 [==============================] - 2s 8ms/step - loss: 0.1738\n",
            "Epoch 11/32\n",
            "304/304 [==============================] - 1s 5ms/step - loss: 0.1563\n",
            "Epoch 12/32\n",
            "304/304 [==============================] - 1s 5ms/step - loss: 0.1435\n",
            "Epoch 13/32\n",
            "304/304 [==============================] - 1s 5ms/step - loss: 0.1335\n",
            "Epoch 14/32\n",
            "304/304 [==============================] - 1s 5ms/step - loss: 0.1240\n",
            "Epoch 15/32\n",
            "304/304 [==============================] - 1s 5ms/step - loss: 0.1172\n",
            "Epoch 16/32\n",
            "304/304 [==============================] - 1s 5ms/step - loss: 0.1119\n",
            "Epoch 17/32\n",
            "304/304 [==============================] - 2s 6ms/step - loss: 0.1068\n",
            "Epoch 18/32\n",
            "304/304 [==============================] - 3s 9ms/step - loss: 0.1025\n",
            "Epoch 19/32\n",
            "304/304 [==============================] - 2s 8ms/step - loss: 0.0990\n",
            "Epoch 20/32\n",
            "304/304 [==============================] - 2s 6ms/step - loss: 0.0951\n",
            "Epoch 21/32\n",
            "304/304 [==============================] - 1s 5ms/step - loss: 0.0925\n",
            "Epoch 22/32\n",
            "304/304 [==============================] - 1s 5ms/step - loss: 0.0901\n",
            "Epoch 23/32\n",
            "304/304 [==============================] - 2s 5ms/step - loss: 0.0876\n",
            "Epoch 24/32\n",
            "304/304 [==============================] - 2s 6ms/step - loss: 0.0862\n",
            "Epoch 25/32\n",
            "304/304 [==============================] - 2s 8ms/step - loss: 0.0842\n",
            "Epoch 26/32\n",
            "304/304 [==============================] - 2s 7ms/step - loss: 0.0827\n",
            "Epoch 27/32\n",
            "304/304 [==============================] - 1s 5ms/step - loss: 0.0810\n",
            "Epoch 28/32\n",
            "304/304 [==============================] - 1s 5ms/step - loss: 0.0793\n",
            "Epoch 29/32\n",
            "304/304 [==============================] - 1s 5ms/step - loss: 0.0677\n",
            "Epoch 30/32\n",
            "304/304 [==============================] - 1s 5ms/step - loss: 0.0639\n",
            "Epoch 31/32\n",
            "304/304 [==============================] - 1s 5ms/step - loss: 0.0627\n",
            "Epoch 32/32\n",
            "304/304 [==============================] - 1s 4ms/step - loss: 0.0617\n"
          ]
        }
      ],
      "source": [
        "import tensorflow as tf\n",
        "history=  vae.fit(x_train, x_train, shuffle=True, epochs=32, batch_size=256)"
      ]
    },
    {
      "cell_type": "markdown",
      "source": [
        "## 4. 결과"
      ],
      "metadata": {
        "id": "ZwynVzREYmRz"
      },
      "id": "ZwynVzREYmRz"
    },
    {
      "cell_type": "code",
      "source": [
        "import matplotlib.pyplot as plt\n",
        "\n",
        "plt.plot(history.history['loss'])\n",
        "plt.title('VAE loss')\n",
        "plt.ylabel('loss')\n",
        "plt.xlabel('epoch')\n",
        "plt.show()"
      ],
      "metadata": {
        "colab": {
          "base_uri": "https://localhost:8080/",
          "height": 472
        },
        "id": "dKssI-7TYoox",
        "outputId": "a4e22613-fb6a-44e3-f98e-65c34f64f570"
      },
      "id": "dKssI-7TYoox",
      "execution_count": 24,
      "outputs": [
        {
          "output_type": "display_data",
          "data": {
            "text/plain": [
              "<Figure size 640x480 with 1 Axes>"
            ],
            "image/png": "[encoded data removed]"
          },
          "metadata": {}
        }
      ]
    },
    {
      "cell_type": "code",
      "source": [
        "predictions = vae.predict(x_test)\n",
        "mse = np.mean(np.power(x_test - predictions, 2), axis=1)\n",
        "error_df1 = pd.DataFrame({\"reconstruction_error\": mse, \"true_class\": y_test})\n",
        "\n",
        "error_df1.describe()"
      ],
      "metadata": {
        "colab": {
          "base_uri": "https://localhost:8080/",
          "height": 300
        },
        "id": "yIvQdQ1GbiSC",
        "outputId": "265b390e-be4d-478f-d3fd-f3b0ec8dc1c3"
      },
      "id": "yIvQdQ1GbiSC",
      "execution_count": 34,
      "outputs": [
        {
          "output_type": "execute_result",
          "data": {
            "text/plain": [
              "       reconstruction_error    true_class\n",
              "count          38912.000000  38912.000000\n",
              "mean               0.009269      0.500000\n",
              "std                0.010853      0.500006\n",
              "min                0.000002      0.000000\n",
              "25%                0.000022      0.000000\n",
              "50%                0.000160      0.500000\n",
              "75%                0.017067      1.000000\n",
              "max                0.058389      1.000000"
            ],
            "text/html": [
              "\n",
              "  <div id=\"df-22b80e1f-999c-4ef7-8e97-329ae450213d\" class=\"colab-df-container\">\n",
              "    <div>\n",
              "<style scoped>\n",
              "    .dataframe tbody tr th:only-of-type {\n",
              "        vertical-align: middle;\n",
              "    }\n",
              "\n",
              "    .dataframe tbody tr th {\n",
              "        vertical-align: top;\n",
              "    }\n",
              "\n",
              "    .dataframe thead th {\n",
              "        text-align: right;\n",
              "    }\n",
              "</style>\n",
              "<table border=\"1\" class=\"dataframe\">\n",
              "  <thead>\n",
              "    <tr style=\"text-align: right;\">\n",
              "      <th></th>\n",
              "      <th>reconstruction_error</th>\n",
              "      <th>true_class</th>\n",
              "    </tr>\n",
              "  </thead>\n",
              "  <tbody>\n",
              "    <tr>\n",
              "      <th>count</th>\n",
              "      <td>38912.000000</td>\n",
              "      <td>38912.000000</td>\n",
              "    </tr>\n",
              "    <tr>\n",
              "      <th>mean</th>\n",
              "      <td>0.009269</td>\n",
              "      <td>0.500000</td>\n",
              "    </tr>\n",
              "    <tr>\n",
              "      <th>std</th>\n",
              "      <td>0.010853</td>\n",
              "      <td>0.500006</td>\n",
              "    </tr>\n",
              "    <tr>\n",
              "      <th>min</th>\n",
              "      <td>0.000002</td>\n",
              "      <td>0.000000</td>\n",
              "    </tr>\n",
              "    <tr>\n",
              "      <th>25%</th>\n",
              "      <td>0.000022</td>\n",
              "      <td>0.000000</td>\n",
              "    </tr>\n",
              "    <tr>\n",
              "      <th>50%</th>\n",
              "      <td>0.000160</td>\n",
              "      <td>0.500000</td>\n",
              "    </tr>\n",
              "    <tr>\n",
              "      <th>75%</th>\n",
              "      <td>0.017067</td>\n",
              "      <td>1.000000</td>\n",
              "    </tr>\n",
              "    <tr>\n",
              "      <th>max</th>\n",
              "      <td>0.058389</td>\n",
              "      <td>1.000000</td>\n",
              "    </tr>\n",
              "  </tbody>\n",
              "</table>\n",
              "</div>\n",
              "    <div class=\"colab-df-buttons\">\n",
              "\n",
              "  <div class=\"colab-df-container\">\n",
              "    <button class=\"colab-df-convert\" onclick=\"convertToInteractive('df-22b80e1f-999c-4ef7-8e97-329ae450213d')\"\n",
              "            title=\"Convert this dataframe to an interactive table.\"\n",
              "            style=\"display:none;\">\n",
              "\n",
              "  <svg xmlns=\"http://www.w3.org/2000/svg\" height=\"24px\" viewBox=\"0 -960 960 960\">\n",
              "    <path d=\"M120-120v-720h720v720H120Zm60-500h600v-160H180v160Zm220 220h160v-160H400v160Zm0 220h160v-160H400v160ZM180-400h160v-160H180v160Zm440 0h160v-160H620v160ZM180-180h160v-160H180v160Zm440 0h160v-160H620v160Z\"/>\n",
              "  </svg>\n",
              "    </button>\n",
              "\n",
              "  <style>\n",
              "    .colab-df-container {\n",
              "      display:flex;\n",
              "      gap: 12px;\n",
              "    }\n",
              "\n",
              "    .colab-df-convert {\n",
              "      background-color: #E8F0FE;\n",
              "      border: none;\n",
              "      border-radius: 50%;\n",
              "      cursor: pointer;\n",
              "      display: none;\n",
              "      fill: #1967D2;\n",
              "      height: 32px;\n",
              "      padding: 0 0 0 0;\n",
              "      width: 32px;\n",
              "    }\n",
              "\n",
              "    .colab-df-convert:hover {\n",
              "      background-color: #E2EBFA;\n",
              "      box-shadow: 0px 1px 2px rgba(60, 64, 67, 0.3), 0px 1px 3px 1px rgba(60, 64, 67, 0.15);\n",
              "      fill: #174EA6;\n",
              "    }\n",
              "\n",
              "    .colab-df-buttons div {\n",
              "      margin-bottom: 4px;\n",
              "    }\n",
              "\n",
              "    [theme=dark] .colab-df-convert {\n",
              "      background-color: #3B4455;\n",
              "      fill: #D2E3FC;\n",
              "    }\n",
              "\n",
              "    [theme=dark] .colab-df-convert:hover {\n",
              "      background-color: #434B5C;\n",
              "      box-shadow: 0px 1px 3px 1px rgba(0, 0, 0, 0.15);\n",
              "      filter: drop-shadow(0px 1px 2px rgba(0, 0, 0, 0.3));\n",
              "      fill: #FFFFFF;\n",
              "    }\n",
              "  </style>\n",
              "\n",
              "    <script>\n",
              "      const buttonEl =\n",
              "        document.querySelector('#df-22b80e1f-999c-4ef7-8e97-329ae450213d button.colab-df-convert');\n",
              "      buttonEl.style.display =\n",
              "        google.colab.kernel.accessAllowed ? 'block' : 'none';\n",
              "\n",
              "      async function convertToInteractive(key) {\n",
              "        const element = document.querySelector('#df-22b80e1f-999c-4ef7-8e97-329ae450213d');\n",
              "        const dataTable =\n",
              "          await google.colab.kernel.invokeFunction('convertToInteractive',\n",
              "                                                    [key], {});\n",
              "        if (!dataTable) return;\n",
              "\n",
              "        const docLinkHtml = 'Like what you see? Visit the ' +\n",
              "          '<a target=\"_blank\" href=https://colab.research.google.com/notebooks/data_table.ipynb>data table notebook</a>'\n",
              "          + ' to learn more about interactive tables.';\n",
              "        element.innerHTML = '';\n",
              "        dataTable['output_type'] = 'display_data';\n",
              "        await google.colab.output.renderOutput(dataTable, element);\n",
              "        const docLink = document.createElement('div');\n",
              "        docLink.innerHTML = docLinkHtml;\n",
              "        element.appendChild(docLink);\n",
              "      }\n",
              "    </script>\n",
              "  </div>\n",
              "\n",
              "\n",
              "<div id=\"df-5ab8ffca-d789-4e6e-b084-d1956d192ffc\">\n",
              "  <button class=\"colab-df-quickchart\" onclick=\"quickchart('df-5ab8ffca-d789-4e6e-b084-d1956d192ffc')\"\n",
              "            title=\"Suggest charts\"\n",
              "            style=\"display:none;\">\n",
              "\n",
              "<svg xmlns=\"http://www.w3.org/2000/svg\" height=\"24px\"viewBox=\"0 0 24 24\"\n",
              "     width=\"24px\">\n",
              "    <g>\n",
              "        <path d=\"M19 3H5c-1.1 0-2 .9-2 2v14c0 1.1.9 2 2 2h14c1.1 0 2-.9 2-2V5c0-1.1-.9-2-2-2zM9 17H7v-7h2v7zm4 0h-2V7h2v10zm4 0h-2v-4h2v4z\"/>\n",
              "    </g>\n",
              "</svg>\n",
              "  </button>\n",
              "\n",
              "<style>\n",
              "  .colab-df-quickchart {\n",
              "      --bg-color: #E8F0FE;\n",
              "      --fill-color: #1967D2;\n",
              "      --hover-bg-color: #E2EBFA;\n",
              "      --hover-fill-color: #174EA6;\n",
              "      --disabled-fill-color: #AAA;\n",
              "      --disabled-bg-color: #DDD;\n",
              "  }\n",
              "\n",
              "  [theme=dark] .colab-df-quickchart {\n",
              "      --bg-color: #3B4455;\n",
              "      --fill-color: #D2E3FC;\n",
              "      --hover-bg-color: #434B5C;\n",
              "      --hover-fill-color: #FFFFFF;\n",
              "      --disabled-bg-color: #3B4455;\n",
              "      --disabled-fill-color: #666;\n",
              "  }\n",
              "\n",
              "  .colab-df-quickchart {\n",
              "    background-color: var(--bg-color);\n",
              "    border: none;\n",
              "    border-radius: 50%;\n",
              "    cursor: pointer;\n",
              "    display: none;\n",
              "    fill: var(--fill-color);\n",
              "    height: 32px;\n",
              "    padding: 0;\n",
              "    width: 32px;\n",
              "  }\n",
              "\n",
              "  .colab-df-quickchart:hover {\n",
              "    background-color: var(--hover-bg-color);\n",
              "    box-shadow: 0 1px 2px rgba(60, 64, 67, 0.3), 0 1px 3px 1px rgba(60, 64, 67, 0.15);\n",
              "    fill: var(--button-hover-fill-color);\n",
              "  }\n",
              "\n",
              "  .colab-df-quickchart-complete:disabled,\n",
              "  .colab-df-quickchart-complete:disabled:hover {\n",
              "    background-color: var(--disabled-bg-color);\n",
              "    fill: var(--disabled-fill-color);\n",
              "    box-shadow: none;\n",
              "  }\n",
              "\n",
              "  .colab-df-spinner {\n",
              "    border: 2px solid var(--fill-color);\n",
              "    border-color: transparent;\n",
              "    border-bottom-color: var(--fill-color);\n",
              "    animation:\n",
              "      spin 1s steps(1) infinite;\n",
              "  }\n",
              "\n",
              "  @keyframes spin {\n",
              "    0% {\n",
              "      border-color: transparent;\n",
              "      border-bottom-color: var(--fill-color);\n",
              "      border-left-color: var(--fill-color);\n",
              "    }\n",
              "    20% {\n",
              "      border-color: transparent;\n",
              "      border-left-color: var(--fill-color);\n",
              "      border-top-color: var(--fill-color);\n",
              "    }\n",
              "    30% {\n",
              "      border-color: transparent;\n",
              "      border-left-color: var(--fill-color);\n",
              "      border-top-color: var(--fill-color);\n",
              "      border-right-color: var(--fill-color);\n",
              "    }\n",
              "    40% {\n",
              "      border-color: transparent;\n",
              "      border-right-color: var(--fill-color);\n",
              "      border-top-color: var(--fill-color);\n",
              "    }\n",
              "    60% {\n",
              "      border-color: transparent;\n",
              "      border-right-color: var(--fill-color);\n",
              "    }\n",
              "    80% {\n",
              "      border-color: transparent;\n",
              "      border-right-color: var(--fill-color);\n",
              "      border-bottom-color: var(--fill-color);\n",
              "    }\n",
              "    90% {\n",
              "      border-color: transparent;\n",
              "      border-bottom-color: var(--fill-color);\n",
              "    }\n",
              "  }\n",
              "</style>\n",
              "\n",
              "  <script>\n",
              "    async function quickchart(key) {\n",
              "      const quickchartButtonEl =\n",
              "        document.querySelector('#' + key + ' button');\n",
              "      quickchartButtonEl.disabled = true;  // To prevent multiple clicks.\n",
              "      quickchartButtonEl.classList.add('colab-df-spinner');\n",
              "      try {\n",
              "        const charts = await google.colab.kernel.invokeFunction(\n",
              "            'suggestCharts', [key], {});\n",
              "      } catch (error) {\n",
              "        console.error('Error during call to suggestCharts:', error);\n",
              "      }\n",
              "      quickchartButtonEl.classList.remove('colab-df-spinner');\n",
              "      quickchartButtonEl.classList.add('colab-df-quickchart-complete');\n",
              "    }\n",
              "    (() => {\n",
              "      let quickchartButtonEl =\n",
              "        document.querySelector('#df-5ab8ffca-d789-4e6e-b084-d1956d192ffc button');\n",
              "      quickchartButtonEl.style.display =\n",
              "        google.colab.kernel.accessAllowed ? 'block' : 'none';\n",
              "    })();\n",
              "  </script>\n",
              "</div>\n",
              "\n",
              "    </div>\n",
              "  </div>\n"
            ],
            "application/vnd.google.colaboratory.intrinsic+json": {
              "type": "dataframe",
              "summary": "{\n  \"name\": \"error_df1\",\n  \"rows\": 8,\n  \"fields\": [\n    {\n      \"column\": \"reconstruction_error\",\n      \"properties\": {\n        \"dtype\": \"number\",\n        \"std\": 13757.464698103624,\n        \"min\": 1.7146326520235392e-06,\n        \"max\": 38912.0,\n        \"num_unique_values\": 8,\n        \"samples\": [\n          0.009268974682734743,\n          0.00015963051243689946,\n          38912.0\n        ],\n        \"semantic_type\": \"\",\n        \"description\": \"\"\n      }\n    },\n    {\n      \"column\": \"true_class\",\n      \"properties\": {\n        \"dtype\": \"number\",\n        \"std\": 13757.29276293772,\n        \"min\": 0.0,\n        \"max\": 38912.0,\n        \"num_unique_values\": 5,\n        \"samples\": [\n          0.5,\n          1.0,\n          0.5000064248771244\n        ],\n        \"semantic_type\": \"\",\n        \"description\": \"\"\n      }\n    }\n  ]\n}"
            }
          },
          "metadata": {},
          "execution_count": 34
        }
      ]
    },
    {
      "cell_type": "code",
      "source": [
        "threshold= 0.01\n",
        "\n",
        "groups = error_df1.groupby('true_class')\n",
        "fig, ax = plt.subplots()\n",
        "\n",
        "for name, group in groups:\n",
        "    ax.plot(group.index, group.reconstruction_error, marker='o', ms =3.5, linestyle='',alpha=0.2)\n",
        "ax.hlines(threshold, ax.get_xlim()[0], ax.get_xlim()[1], colors=\"r\", zorder=100, label=\"Threshold\")\n",
        "ax.legend()\n",
        "plt.title(\"Reconstruction error for different classes\")\n",
        "plt.xlabel(\"Data point index\")\n",
        "plt.ylabel(\"Reconstruction error\")\n",
        "plt.show()"
      ],
      "metadata": {
        "colab": {
          "base_uri": "https://localhost:8080/",
          "height": 472
        },
        "id": "dAu1ytLscEaj",
        "outputId": "33a7a73f-e83b-4071-f1cd-64e446bd3a4c"
      },
      "id": "dAu1ytLscEaj",
      "execution_count": 47,
      "outputs": [
        {
          "output_type": "display_data",
          "data": {
            "text/plain": [
              "<Figure size 640x480 with 1 Axes>"
            ],
            "image/png": "[encoded data removed]"
          },
          "metadata": {}
        }
      ]
    },
    {
      "cell_type": "code",
      "source": [],
      "metadata": {
        "id": "cQEN9AuZcQqz"
      },
      "id": "cQEN9AuZcQqz",
      "execution_count": null,
      "outputs": []
    }
  ],
  "metadata": {
    "kernelspec": {
      "display_name": "Python 3 (ipykernel)",
      "language": "python",
      "name": "python3"
    },
    "language_info": {
      "codemirror_mode": {
        "name": "ipython",
        "version": 3
      },
      "file_extension": ".py",
      "mimetype": "text/x-python",
      "name": "python",
      "nbconvert_exporter": "python",
      "pygments_lexer": "ipython3",
      "version": "3.11.7"
    },
    "colab": {
      "provenance": []
    }
  },
  "nbformat": 4,
  "nbformat_minor": 5
}