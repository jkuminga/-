{
 "cells": [
  {
   "cell_type": "markdown",
   "id": "f539eedc-c82e-43f7-bff3-15ea724bda55",
   "metadata": {},
   "source": [
    "# 전복데이터 LSTM 회귀\n",
    "______\n",
    "## 1. 데이터 준비"
   ]
  },
  {
   "cell_type": "code",
   "execution_count": 23,
   "id": "53425e43-868e-49e4-bf07-a3683ef2f21d",
   "metadata": {},
   "outputs": [
    {
     "name": "stdout",
     "output_type": "stream",
     "text": [
      "        id Sex  Length  Diameter  Height  Whole_weight  Shucked_weight  \\\n",
      "0        0   M   0.455     0.365   0.095        0.5140          0.2245   \n",
      "1        1   M   0.350     0.265   0.090        0.2255          0.0995   \n",
      "2        2   F   0.530     0.420   0.135        0.6770          0.2565   \n",
      "3        3   M   0.440     0.365   0.125        0.5160          0.2155   \n",
      "4        4   I   0.330     0.255   0.080        0.2050          0.0895   \n",
      "...    ...  ..     ...       ...     ...           ...             ...   \n",
      "4172  4172   F   0.565     0.450   0.165        0.8870          0.3700   \n",
      "4173  4173   M   0.590     0.440   0.135        0.9660          0.4390   \n",
      "4174  4174   M   0.600     0.475   0.205        1.1760          0.5255   \n",
      "4175  4175   F   0.625     0.485   0.150        1.0945          0.5310   \n",
      "4176  4176   M   0.710     0.555   0.195        1.9485          0.9455   \n",
      "\n",
      "      Viscera_weight  Shell_weight  Rings  \n",
      "0             0.1010        0.1500     15  \n",
      "1             0.0485        0.0700      7  \n",
      "2             0.1415        0.2100      9  \n",
      "3             0.1140        0.1550     10  \n",
      "4             0.0395        0.0550      7  \n",
      "...              ...           ...    ...  \n",
      "4172          0.2390        0.2490     11  \n",
      "4173          0.2145        0.2605     10  \n",
      "4174          0.2875        0.3080      9  \n",
      "4175          0.2610        0.2960     10  \n",
      "4176          0.3765        0.4950     12  \n",
      "\n",
      "[4177 rows x 10 columns]\n"
     ]
    }
   ],
   "source": [
    "# 데이터 불러오기\n",
    "import pandas as pd\n",
    "\n",
    "df = pd.read_csv(r\"C:\\Users\\DoHyeonjik\\GachonUniv\\3-2\\datasets\\DL\\abalone.csv\")\n",
    "print(df)"
   ]
  },
  {
   "cell_type": "code",
   "execution_count": 24,
   "id": "8b7a35fe-282c-4ff7-9b58-8b0ffc9b4a1d",
   "metadata": {},
   "outputs": [
    {
     "name": "stdout",
     "output_type": "stream",
     "text": [
      "Index(['id', 'Sex', 'Length', 'Diameter', 'Height', 'Whole_weight',\n",
      "       'Shucked_weight', 'Viscera_weight', 'Shell_weight', 'Rings'],\n",
      "      dtype='object')\n",
      "(4177, 10)\n"
     ]
    }
   ],
   "source": [
    "# 열 데이터 알아보기\n",
    "print(df.columns)\n",
    "# 전복데이터 구조\n",
    "print(df.shape)"
   ]
  },
  {
   "cell_type": "markdown",
   "id": "903a916e-5ae1-4041-b6d0-1a1eecbe332f",
   "metadata": {},
   "source": [
    "## 2. 데이터 전처리"
   ]
  },
  {
   "cell_type": "code",
   "execution_count": 25,
   "id": "c0a3c36c-46cc-4afb-b9c5-1b55c6f51d4f",
   "metadata": {},
   "outputs": [
    {
     "name": "stdout",
     "output_type": "stream",
     "text": [
      "0       2\n",
      "1       2\n",
      "2       0\n",
      "3       2\n",
      "4       1\n",
      "       ..\n",
      "4172    0\n",
      "4173    2\n",
      "4174    2\n",
      "4175    0\n",
      "4176    2\n",
      "Name: Sex, Length: 4177, dtype: int32\n"
     ]
    }
   ],
   "source": [
    "# 텍스트로 구성된 Sex 특성을 수치값으로 인코딩\n",
    "from sklearn.preprocessing import LabelEncoder\n",
    "le = LabelEncoder()\n",
    "le.fit(df['Sex'])\n",
    "df['Sex'] = le.transform(df['Sex'])\n",
    "print(df['Sex'])"
   ]
  },
  {
   "cell_type": "code",
   "execution_count": 26,
   "id": "0524bd8e-1f31-439e-bdc9-beeda447423c",
   "metadata": {},
   "outputs": [
    {
     "name": "stdout",
     "output_type": "stream",
     "text": [
      "(4177, 8)\n",
      "(4177,)\n"
     ]
    }
   ],
   "source": [
    "# 데이터와 레이블 분리\n",
    "df_label = df['Rings']\n",
    "df_data = df.drop(['id','Rings'], axis=1)\n",
    "print(df_data.shape)\n",
    "print(df_label.shape)"
   ]
  },
  {
   "cell_type": "code",
   "execution_count": 27,
   "id": "32e534d0-5f2b-43c1-bc88-f002d09c9fd2",
   "metadata": {},
   "outputs": [],
   "source": [
    "# # 훈련데이터와 테스트 데이터로 분리\n",
    "# from sklearn.model_selection import train_test_split\n",
    "\n",
    "# x_train, x_test, y_train, y_test = train_test_split(df_data, df_label, random_state=42)\n",
    "# print(x_train.shape, y_train.shape)\n",
    "# print(x_test.shape, y_test.shape)"
   ]
  },
  {
   "cell_type": "code",
   "execution_count": 28,
   "id": "70034f54-7397-4350-a4b8-a01fbe2645df",
   "metadata": {},
   "outputs": [
    {
     "name": "stdout",
     "output_type": "stream",
     "text": [
      "(3132, 9)\n",
      "(1045, 9)\n"
     ]
    }
   ],
   "source": [
    "# split_sequence 함수 적용을 위해 훈련 세트와 테스트세트를 병합\n",
    "import numpy as np\n",
    "\n",
    "y_train = np.array(y_train)\n",
    "train_set = np.c_[x_train, y_train]\n",
    "\n",
    "y_test = np.array(y_test)\n",
    "test_set = np.c_[x_test, y_test]\n",
    "\n",
    "print(train_set.shape)\n",
    "print(test_set.shape)"
   ]
  },
  {
   "cell_type": "code",
   "execution_count": 31,
   "id": "5e03e61a-1345-4769-b720-d30f445b3f0f",
   "metadata": {},
   "outputs": [],
   "source": [
    "# split_sequence 함수\n",
    "from collections import Counter\n",
    "\n",
    "def split_sequence(sequences, n_steps):\n",
    "    x, y = list(), list()\n",
    "    for i in range(len(sequences)):\n",
    "        end_idx = i + n_steps\n",
    "        if end_idx > len(sequences):\n",
    "            break\n",
    "\n",
    "        seq_x = sequences[i:end_idx, :-1]\n",
    "        seq_y_values = sequences[i:end_idx, -1]\n",
    "\n",
    "        most_common_values = Counter(seq_y_values).most_common(1)[0][0]\n",
    "        x.append(seq_x)\n",
    "        y.append(most_common_values)\n",
    "\n",
    "    return np.array(x), np.array(y)    "
   ]
  },
  {
   "cell_type": "code",
   "execution_count": 32,
   "id": "9d98a7f3-d520-4e92-b057-c7f6a523b22f",
   "metadata": {},
   "outputs": [
    {
     "name": "stdout",
     "output_type": "stream",
     "text": [
      "(3128, 5, 8) (3128,)\n",
      "(1041, 5, 8) (1041,)\n"
     ]
    }
   ],
   "source": [
    "n_steps= 5\n",
    "\n",
    "x_train_seq, y_train_seq = split_sequence(train_set, n_steps)\n",
    "x_test_seq, y_test_seq = split_sequence(test_set, n_steps)\n",
    "\n",
    "print(x_train_seq.shape, y_train_seq.shape)\n",
    "print(x_test_seq.shape, y_test_seq.shape)"
   ]
  },
  {
   "cell_type": "markdown",
   "id": "7a942d13-8446-4a6d-b8bb-05769efa0860",
   "metadata": {},
   "source": [
    "## 3. 모델생성 및 훈련"
   ]
  },
  {
   "cell_type": "code",
   "execution_count": 35,
   "id": "ec7f7f47-d500-4fd3-95c3-ee8b5bc8da51",
   "metadata": {},
   "outputs": [
    {
     "data": {
      "text/html": [
       "<pre style=\"white-space:pre;overflow-x:auto;line-height:normal;font-family:Menlo,'DejaVu Sans Mono',consolas,'Courier New',monospace\"><span style=\"font-weight: bold\">Model: \"sequential_2\"</span>\n",
       "</pre>\n"
      ],
      "text/plain": [
       "\u001b[1mModel: \"sequential_2\"\u001b[0m\n"
      ]
     },
     "metadata": {},
     "output_type": "display_data"
    },
    {
     "data": {
      "text/html": [
       "<pre style=\"white-space:pre;overflow-x:auto;line-height:normal;font-family:Menlo,'DejaVu Sans Mono',consolas,'Courier New',monospace\">┏━━━━━━━━━━━━━━━━━━━━━━━━━━━━━━━━━━━━━━┳━━━━━━━━━━━━━━━━━━━━━━━━━━━━━┳━━━━━━━━━━━━━━━━━┓\n",
       "┃<span style=\"font-weight: bold\"> Layer (type)                         </span>┃<span style=\"font-weight: bold\"> Output Shape                </span>┃<span style=\"font-weight: bold\">         Param # </span>┃\n",
       "┡━━━━━━━━━━━━━━━━━━━━━━━━━━━━━━━━━━━━━━╇━━━━━━━━━━━━━━━━━━━━━━━━━━━━━╇━━━━━━━━━━━━━━━━━┩\n",
       "│ lstm_1 (<span style=\"color: #0087ff; text-decoration-color: #0087ff\">LSTM</span>)                        │ (<span style=\"color: #00d7ff; text-decoration-color: #00d7ff\">None</span>, <span style=\"color: #00af00; text-decoration-color: #00af00\">128</span>)                 │          <span style=\"color: #00af00; text-decoration-color: #00af00\">70,144</span> │\n",
       "├──────────────────────────────────────┼─────────────────────────────┼─────────────────┤\n",
       "│ dense_2 (<span style=\"color: #0087ff; text-decoration-color: #0087ff\">Dense</span>)                      │ (<span style=\"color: #00d7ff; text-decoration-color: #00d7ff\">None</span>, <span style=\"color: #00af00; text-decoration-color: #00af00\">128</span>)                 │          <span style=\"color: #00af00; text-decoration-color: #00af00\">16,512</span> │\n",
       "├──────────────────────────────────────┼─────────────────────────────┼─────────────────┤\n",
       "│ dense_3 (<span style=\"color: #0087ff; text-decoration-color: #0087ff\">Dense</span>)                      │ (<span style=\"color: #00d7ff; text-decoration-color: #00d7ff\">None</span>, <span style=\"color: #00af00; text-decoration-color: #00af00\">1</span>)                   │             <span style=\"color: #00af00; text-decoration-color: #00af00\">129</span> │\n",
       "└──────────────────────────────────────┴─────────────────────────────┴─────────────────┘\n",
       "</pre>\n"
      ],
      "text/plain": [
       "┏━━━━━━━━━━━━━━━━━━━━━━━━━━━━━━━━━━━━━━┳━━━━━━━━━━━━━━━━━━━━━━━━━━━━━┳━━━━━━━━━━━━━━━━━┓\n",
       "┃\u001b[1m \u001b[0m\u001b[1mLayer (type)                        \u001b[0m\u001b[1m \u001b[0m┃\u001b[1m \u001b[0m\u001b[1mOutput Shape               \u001b[0m\u001b[1m \u001b[0m┃\u001b[1m \u001b[0m\u001b[1m        Param #\u001b[0m\u001b[1m \u001b[0m┃\n",
       "┡━━━━━━━━━━━━━━━━━━━━━━━━━━━━━━━━━━━━━━╇━━━━━━━━━━━━━━━━━━━━━━━━━━━━━╇━━━━━━━━━━━━━━━━━┩\n",
       "│ lstm_1 (\u001b[38;5;33mLSTM\u001b[0m)                        │ (\u001b[38;5;45mNone\u001b[0m, \u001b[38;5;34m128\u001b[0m)                 │          \u001b[38;5;34m70,144\u001b[0m │\n",
       "├──────────────────────────────────────┼─────────────────────────────┼─────────────────┤\n",
       "│ dense_2 (\u001b[38;5;33mDense\u001b[0m)                      │ (\u001b[38;5;45mNone\u001b[0m, \u001b[38;5;34m128\u001b[0m)                 │          \u001b[38;5;34m16,512\u001b[0m │\n",
       "├──────────────────────────────────────┼─────────────────────────────┼─────────────────┤\n",
       "│ dense_3 (\u001b[38;5;33mDense\u001b[0m)                      │ (\u001b[38;5;45mNone\u001b[0m, \u001b[38;5;34m1\u001b[0m)                   │             \u001b[38;5;34m129\u001b[0m │\n",
       "└──────────────────────────────────────┴─────────────────────────────┴─────────────────┘\n"
      ]
     },
     "metadata": {},
     "output_type": "display_data"
    },
    {
     "data": {
      "text/html": [
       "<pre style=\"white-space:pre;overflow-x:auto;line-height:normal;font-family:Menlo,'DejaVu Sans Mono',consolas,'Courier New',monospace\"><span style=\"font-weight: bold\"> Total params: </span><span style=\"color: #00af00; text-decoration-color: #00af00\">86,785</span> (339.00 KB)\n",
       "</pre>\n"
      ],
      "text/plain": [
       "\u001b[1m Total params: \u001b[0m\u001b[38;5;34m86,785\u001b[0m (339.00 KB)\n"
      ]
     },
     "metadata": {},
     "output_type": "display_data"
    },
    {
     "data": {
      "text/html": [
       "<pre style=\"white-space:pre;overflow-x:auto;line-height:normal;font-family:Menlo,'DejaVu Sans Mono',consolas,'Courier New',monospace\"><span style=\"font-weight: bold\"> Trainable params: </span><span style=\"color: #00af00; text-decoration-color: #00af00\">86,785</span> (339.00 KB)\n",
       "</pre>\n"
      ],
      "text/plain": [
       "\u001b[1m Trainable params: \u001b[0m\u001b[38;5;34m86,785\u001b[0m (339.00 KB)\n"
      ]
     },
     "metadata": {},
     "output_type": "display_data"
    },
    {
     "data": {
      "text/html": [
       "<pre style=\"white-space:pre;overflow-x:auto;line-height:normal;font-family:Menlo,'DejaVu Sans Mono',consolas,'Courier New',monospace\"><span style=\"font-weight: bold\"> Non-trainable params: </span><span style=\"color: #00af00; text-decoration-color: #00af00\">0</span> (0.00 B)\n",
       "</pre>\n"
      ],
      "text/plain": [
       "\u001b[1m Non-trainable params: \u001b[0m\u001b[38;5;34m0\u001b[0m (0.00 B)\n"
      ]
     },
     "metadata": {},
     "output_type": "display_data"
    }
   ],
   "source": [
    "from tensorflow import keras\n",
    "from keras.layers import LSTM, Dense\n",
    "from keras.models import Sequential\n",
    "\n",
    "model = Sequential()\n",
    "\n",
    "model.add(LSTM(128, input_shape=(5,8)))\n",
    "model.add(Dense(128, activation='relu'))\n",
    "model.add(Dense(1))\n",
    "\n",
    "model.compile(optimizer='adam', loss='mse', metrics=['mae'])\n",
    "\n",
    "model.summary()"
   ]
  },
  {
   "cell_type": "code",
   "execution_count": 36,
   "id": "630632f0-c648-41a6-9cef-68068e2d9ca4",
   "metadata": {},
   "outputs": [
    {
     "name": "stdout",
     "output_type": "stream",
     "text": [
      "Epoch 1/20\n",
      "\u001b[1m88/88\u001b[0m \u001b[32m━━━━━━━━━━━━━━━━━━━━\u001b[0m\u001b[37m\u001b[0m \u001b[1m3s\u001b[0m 8ms/step - loss: 43.3847 - mae: 5.2778 - val_loss: 5.7567 - val_mae: 1.6858\n",
      "Epoch 2/20\n",
      "\u001b[1m88/88\u001b[0m \u001b[32m━━━━━━━━━━━━━━━━━━━━\u001b[0m\u001b[37m\u001b[0m \u001b[1m0s\u001b[0m 4ms/step - loss: 6.4621 - mae: 1.8070 - val_loss: 5.4679 - val_mae: 1.6775\n",
      "Epoch 3/20\n",
      "\u001b[1m88/88\u001b[0m \u001b[32m━━━━━━━━━━━━━━━━━━━━\u001b[0m\u001b[37m\u001b[0m \u001b[1m0s\u001b[0m 4ms/step - loss: 6.3944 - mae: 1.7900 - val_loss: 6.6356 - val_mae: 1.7404\n",
      "Epoch 4/20\n",
      "\u001b[1m88/88\u001b[0m \u001b[32m━━━━━━━━━━━━━━━━━━━━\u001b[0m\u001b[37m\u001b[0m \u001b[1m0s\u001b[0m 4ms/step - loss: 5.8747 - mae: 1.7174 - val_loss: 5.3742 - val_mae: 1.6876\n",
      "Epoch 5/20\n",
      "\u001b[1m88/88\u001b[0m \u001b[32m━━━━━━━━━━━━━━━━━━━━\u001b[0m\u001b[37m\u001b[0m \u001b[1m0s\u001b[0m 4ms/step - loss: 6.5678 - mae: 1.8392 - val_loss: 5.5864 - val_mae: 1.6395\n",
      "Epoch 6/20\n",
      "\u001b[1m88/88\u001b[0m \u001b[32m━━━━━━━━━━━━━━━━━━━━\u001b[0m\u001b[37m\u001b[0m \u001b[1m0s\u001b[0m 4ms/step - loss: 6.0233 - mae: 1.7436 - val_loss: 5.4756 - val_mae: 1.6575\n",
      "Epoch 7/20\n",
      "\u001b[1m88/88\u001b[0m \u001b[32m━━━━━━━━━━━━━━━━━━━━\u001b[0m\u001b[37m\u001b[0m \u001b[1m0s\u001b[0m 5ms/step - loss: 6.1999 - mae: 1.7701 - val_loss: 5.3303 - val_mae: 1.6742\n",
      "Epoch 8/20\n",
      "\u001b[1m88/88\u001b[0m \u001b[32m━━━━━━━━━━━━━━━━━━━━\u001b[0m\u001b[37m\u001b[0m \u001b[1m0s\u001b[0m 5ms/step - loss: 6.3872 - mae: 1.8224 - val_loss: 5.4227 - val_mae: 1.6385\n",
      "Epoch 9/20\n",
      "\u001b[1m88/88\u001b[0m \u001b[32m━━━━━━━━━━━━━━━━━━━━\u001b[0m\u001b[37m\u001b[0m \u001b[1m0s\u001b[0m 4ms/step - loss: 6.2713 - mae: 1.7712 - val_loss: 5.3407 - val_mae: 1.7707\n",
      "Epoch 10/20\n",
      "\u001b[1m88/88\u001b[0m \u001b[32m━━━━━━━━━━━━━━━━━━━━\u001b[0m\u001b[37m\u001b[0m \u001b[1m0s\u001b[0m 4ms/step - loss: 6.2561 - mae: 1.7941 - val_loss: 5.4958 - val_mae: 1.6384\n",
      "Epoch 11/20\n",
      "\u001b[1m88/88\u001b[0m \u001b[32m━━━━━━━━━━━━━━━━━━━━\u001b[0m\u001b[37m\u001b[0m \u001b[1m0s\u001b[0m 4ms/step - loss: 6.0598 - mae: 1.7624 - val_loss: 5.3841 - val_mae: 1.8305\n",
      "Epoch 12/20\n",
      "\u001b[1m88/88\u001b[0m \u001b[32m━━━━━━━━━━━━━━━━━━━━\u001b[0m\u001b[37m\u001b[0m \u001b[1m0s\u001b[0m 4ms/step - loss: 5.4736 - mae: 1.7041 - val_loss: 5.2409 - val_mae: 1.8182\n",
      "Epoch 13/20\n",
      "\u001b[1m88/88\u001b[0m \u001b[32m━━━━━━━━━━━━━━━━━━━━\u001b[0m\u001b[37m\u001b[0m \u001b[1m0s\u001b[0m 4ms/step - loss: 5.9805 - mae: 1.7914 - val_loss: 4.9592 - val_mae: 1.6694\n",
      "Epoch 14/20\n",
      "\u001b[1m88/88\u001b[0m \u001b[32m━━━━━━━━━━━━━━━━━━━━\u001b[0m\u001b[37m\u001b[0m \u001b[1m0s\u001b[0m 4ms/step - loss: 5.4451 - mae: 1.7257 - val_loss: 4.8757 - val_mae: 1.6485\n",
      "Epoch 15/20\n",
      "\u001b[1m88/88\u001b[0m \u001b[32m━━━━━━━━━━━━━━━━━━━━\u001b[0m\u001b[37m\u001b[0m \u001b[1m0s\u001b[0m 4ms/step - loss: 5.5920 - mae: 1.7292 - val_loss: 5.1015 - val_mae: 1.6270\n",
      "Epoch 16/20\n",
      "\u001b[1m88/88\u001b[0m \u001b[32m━━━━━━━━━━━━━━━━━━━━\u001b[0m\u001b[37m\u001b[0m \u001b[1m0s\u001b[0m 4ms/step - loss: 5.2098 - mae: 1.6903 - val_loss: 4.8647 - val_mae: 1.6501\n",
      "Epoch 17/20\n",
      "\u001b[1m88/88\u001b[0m \u001b[32m━━━━━━━━━━━━━━━━━━━━\u001b[0m\u001b[37m\u001b[0m \u001b[1m0s\u001b[0m 4ms/step - loss: 5.5253 - mae: 1.7512 - val_loss: 4.9891 - val_mae: 1.7213\n",
      "Epoch 18/20\n",
      "\u001b[1m88/88\u001b[0m \u001b[32m━━━━━━━━━━━━━━━━━━━━\u001b[0m\u001b[37m\u001b[0m \u001b[1m0s\u001b[0m 4ms/step - loss: 5.6885 - mae: 1.7544 - val_loss: 5.0295 - val_mae: 1.7548\n",
      "Epoch 19/20\n",
      "\u001b[1m88/88\u001b[0m \u001b[32m━━━━━━━━━━━━━━━━━━━━\u001b[0m\u001b[37m\u001b[0m \u001b[1m0s\u001b[0m 5ms/step - loss: 5.7888 - mae: 1.7666 - val_loss: 4.9645 - val_mae: 1.6798\n",
      "Epoch 20/20\n",
      "\u001b[1m88/88\u001b[0m \u001b[32m━━━━━━━━━━━━━━━━━━━━\u001b[0m\u001b[37m\u001b[0m \u001b[1m0s\u001b[0m 4ms/step - loss: 5.7917 - mae: 1.7327 - val_loss: 5.2598 - val_mae: 1.6380\n"
     ]
    }
   ],
   "source": [
    "history = model.fit(x_train_seq, y_train_seq, epochs= 20, batch_size=32, validation_split=0.1, shuffle=True)"
   ]
  },
  {
   "cell_type": "code",
   "execution_count": 37,
   "id": "90f0e487-7b45-4a12-b996-5f6cfcc80600",
   "metadata": {},
   "outputs": [
    {
     "data": {
      "image/png": "[encoded data removed]",
      "text/plain": [
       "<Figure size 640x480 with 1 Axes>"
      ]
     },
     "metadata": {},
     "output_type": "display_data"
    }
   ],
   "source": [
    "import matplotlib.pyplot as plt\n",
    "\n",
    "\n",
    "mae = history.history['mae']\n",
    "val_mae = history.history['val_mae']\n",
    "epochs = range(1, len(mae)+1)\n",
    "plt.plot(epochs, mae, label='Training MAE')\n",
    "plt.plot(epochs, val_mae, label='Validation MAE')\n",
    "plt.xlabel('epochs')\n",
    "plt.ylabel('mae')\n",
    "plt.show()"
   ]
  },
  {
   "cell_type": "code",
   "execution_count": 40,
   "id": "5c7442a0-07ee-4b80-afe3-61675bd1fd90",
   "metadata": {},
   "outputs": [
    {
     "name": "stdout",
     "output_type": "stream",
     "text": [
      "\u001b[1m33/33\u001b[0m \u001b[32m━━━━━━━━━━━━━━━━━━━━\u001b[0m\u001b[37m\u001b[0m \u001b[1m0s\u001b[0m 2ms/step - loss: 5.3400 - mae: 1.5883\n",
      "[4.6810712814331055, 1.5657145977020264]\n"
     ]
    }
   ],
   "source": [
    "print(model.evaluate(x_test_seq, y_test_seq))"
   ]
  },
  {
   "cell_type": "code",
   "execution_count": null,
   "id": "1fd1ba8f-de7f-4251-b570-b69a6bf738dd",
   "metadata": {},
   "outputs": [],
   "source": []
  }
 ],
 "metadata": {
  "kernelspec": {
   "display_name": "Python 3 (ipykernel)",
   "language": "python",
   "name": "python3"
  },
  "language_info": {
   "codemirror_mode": {
    "name": "ipython",
    "version": 3
   },
   "file_extension": ".py",
   "mimetype": "text/x-python",
   "name": "python",
   "nbconvert_exporter": "python",
   "pygments_lexer": "ipython3",
   "version": "3.11.7"
  }
 },
 "nbformat": 4,
 "nbformat_minor": 5
}
