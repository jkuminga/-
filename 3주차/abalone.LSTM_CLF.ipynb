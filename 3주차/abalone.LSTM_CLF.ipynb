{
 "cells": [
  {
   "cell_type": "markdown",
   "id": "acf24208-8a27-4474-81a9-c212d6c19773",
   "metadata": {},
   "source": [
    "# 전복 데이터 LSTM 분류"
   ]
  },
  {
   "cell_type": "markdown",
   "id": "ef9e45f2-e919-4c62-bee7-ef10be30747d",
   "metadata": {},
   "source": [
    "## 1. 전복 데이터 불러오기"
   ]
  },
  {
   "cell_type": "code",
   "execution_count": 2,
   "id": "bcc21219-a193-47cb-8b3b-f48c9c59ed0e",
   "metadata": {},
   "outputs": [
    {
     "name": "stdout",
     "output_type": "stream",
     "text": [
      "Index(['id', 'Sex', 'Length', 'Diameter', 'Height', 'Whole_weight',\n",
      "       'Shucked_weight', 'Viscera_weight', 'Shell_weight', 'Rings'],\n",
      "      dtype='object') (4177, 10)\n"
     ]
    }
   ],
   "source": [
    "import pandas as pd\n",
    "\n",
    "df = pd.read_csv(r\"C:\\Users\\DoHyeonjik\\GachonUniv\\3-2\\datasets\\DL\\abalone.csv\")\n",
    "print(df.columns, df.shape)"
   ]
  },
  {
   "cell_type": "markdown",
   "id": "5c62006f-90b7-4bce-8dab-3a97fef10bb1",
   "metadata": {},
   "source": [
    "## 2. 데이터 전처리"
   ]
  },
  {
   "cell_type": "code",
   "execution_count": 3,
   "id": "52e33ce7-61e1-4af5-9ea7-7a68716e3f88",
   "metadata": {},
   "outputs": [
    {
     "name": "stdout",
     "output_type": "stream",
     "text": [
      "0       2\n",
      "1       2\n",
      "2       0\n",
      "3       2\n",
      "4       1\n",
      "       ..\n",
      "4172    0\n",
      "4173    2\n",
      "4174    2\n",
      "4175    0\n",
      "4176    2\n",
      "Name: Sex, Length: 4177, dtype: int32\n"
     ]
    }
   ],
   "source": [
    "# 'sex' 열 데이터 라벨인코딩\n",
    "from sklearn.preprocessing import LabelEncoder\n",
    "le = LabelEncoder()\n",
    "df['Sex'] = le.fit_transform(df['Sex'])\n",
    "print(df['Sex'])"
   ]
  },
  {
   "cell_type": "code",
   "execution_count": 4,
   "id": "84233f6d-8f49-4b34-98e4-ba008c2be4fe",
   "metadata": {},
   "outputs": [
    {
     "name": "stdout",
     "output_type": "stream",
     "text": [
      "1 ~ 29\n"
     ]
    }
   ],
   "source": [
    "# 분류 문제 ->레이블 범주화\n",
    "print(df['Rings'].min(),\"~\",df['Rings'].max())\n",
    "bins=[0,7,14, float('inf')]\n",
    "df['Rings'] = pd.cut(df['Rings'], bins=bins, labels=[0,1,2], right=False)"
   ]
  },
  {
   "cell_type": "code",
   "execution_count": 5,
   "id": "031f9fbc-2fd3-4d66-8336-228a43c2b2b4",
   "metadata": {},
   "outputs": [
    {
     "name": "stdout",
     "output_type": "stream",
     "text": [
      "0       2\n",
      "1       1\n",
      "2       1\n",
      "3       1\n",
      "4       1\n",
      "       ..\n",
      "4172    1\n",
      "4173    1\n",
      "4174    1\n",
      "4175    1\n",
      "4176    1\n",
      "Name: Rings, Length: 4177, dtype: category\n",
      "Categories (3, int64): [0 < 1 < 2]\n"
     ]
    }
   ],
   "source": [
    "print(df['Rings'])"
   ]
  },
  {
   "cell_type": "markdown",
   "id": "e01d3886-2072-4e2e-a79f-b189d750b6b9",
   "metadata": {},
   "source": [
    "## 3. 데이터 준비"
   ]
  },
  {
   "cell_type": "code",
   "execution_count": 6,
   "id": "9a3a7fff-b5b5-4d0d-aa4c-8c69b633a90a",
   "metadata": {},
   "outputs": [
    {
     "name": "stdout",
     "output_type": "stream",
     "text": [
      "   Sex  Length  Diameter  Height  Whole_weight  Shucked_weight  \\\n",
      "0    2   0.455     0.365   0.095        0.5140          0.2245   \n",
      "1    2   0.350     0.265   0.090        0.2255          0.0995   \n",
      "2    0   0.530     0.420   0.135        0.6770          0.2565   \n",
      "3    2   0.440     0.365   0.125        0.5160          0.2155   \n",
      "4    1   0.330     0.255   0.080        0.2050          0.0895   \n",
      "\n",
      "   Viscera_weight  Shell_weight  \n",
      "0          0.1010         0.150  \n",
      "1          0.0485         0.070  \n",
      "2          0.1415         0.210  \n",
      "3          0.1140         0.155  \n",
      "4          0.0395         0.055  \n",
      "0    2\n",
      "1    1\n",
      "2    1\n",
      "3    1\n",
      "4    1\n",
      "Name: Rings, dtype: category\n",
      "Categories (3, int64): [0 < 1 < 2]\n"
     ]
    }
   ],
   "source": [
    "# a. 데이터와 레이블로 분리\n",
    "df_data = df.drop(columns=['Rings','id'], axis=1)\n",
    "print(df_data.head())\n",
    "\n",
    "df_label = df['Rings']\n",
    "print(df_label.head())"
   ]
  },
  {
   "cell_type": "code",
   "execution_count": 7,
   "id": "163ac63e-9cb4-4dde-b497-2aedcac33235",
   "metadata": {},
   "outputs": [
    {
     "name": "stdout",
     "output_type": "stream",
     "text": [
      "(3341, 8)\n",
      "(836, 8)\n"
     ]
    }
   ],
   "source": [
    "# b. 훈련데이터와 테스트 데이터로 분리\n",
    "from sklearn.model_selection import train_test_split\n",
    "x_train, x_test, y_train, y_test = train_test_split(df_data, df_label, test_size=0.2, random_state=42)\n",
    "print(x_train.shape)\n",
    "print(x_test.shape)"
   ]
  },
  {
   "cell_type": "code",
   "execution_count": 8,
   "id": "a3c1cce1-07f9-4601-84ed-37665649c93d",
   "metadata": {},
   "outputs": [],
   "source": [
    "# c. LSTM에 사용하기 위해 split_sequence 적용\n",
    "# c-1) 레이블과 데이터 병합\n",
    "import numpy as np\n",
    "\n",
    "y_train = np.array(y_train)\n",
    "train_data = np.c_[x_train, y_train]\n",
    "\n",
    "y_test = np.array(y_test)\n",
    "test_data = np.c_[x_test, y_test]"
   ]
  },
  {
   "cell_type": "code",
   "execution_count": 9,
   "id": "e8db96b9-4f51-4fb5-b007-c7e1b66273c6",
   "metadata": {},
   "outputs": [
    {
     "name": "stdout",
     "output_type": "stream",
     "text": [
      "(3341, 9)\n",
      "(836, 9)\n"
     ]
    }
   ],
   "source": [
    "print(train_data.shape)\n",
    "print(test_data.shape)"
   ]
  },
  {
   "cell_type": "code",
   "execution_count": 12,
   "id": "59dae288-1083-4eb8-9ebd-48c2377c1fde",
   "metadata": {},
   "outputs": [],
   "source": [
    "# c-2)split_sequence 함수\n",
    "from collections import Counter\n",
    "import numpy as np\n",
    "\n",
    "def split_sequence(sequences, n_steps):\n",
    "    x, y = list(), list()\n",
    "    for i in range(len(sequences)):\n",
    "        end_idx = i + n_steps\n",
    "        if end_idx > len(sequences):\n",
    "            break\n",
    "        seq_x = sequences[i:end_idx, :-1]\n",
    "        seq_y_values = sequences[i:end_idx, -1]\n",
    "\n",
    "        most_common_label = Counter(seq_y_values).most_common(1)[0][0]\n",
    "        x.append(seq_x)\n",
    "        y.append(most_common_label)\n",
    "\n",
    "    return np.array(x), np.array(y)\n"
   ]
  },
  {
   "cell_type": "code",
   "execution_count": 13,
   "id": "14994774-6738-415d-83f0-ff81ee2bcbbf",
   "metadata": {},
   "outputs": [
    {
     "name": "stdout",
     "output_type": "stream",
     "text": [
      "(3337, 5, 8) (3337,)\n",
      "(832, 5, 8) (832,)\n"
     ]
    }
   ],
   "source": [
    "# c-3)split_sequence 적용\n",
    "n_steps = 5\n",
    "x_train, y_train = split_sequence(train_data, n_steps)\n",
    "x_test, y_test = split_sequence(test_data, n_steps)\n",
    "print(x_train.shape, y_train.shape)\n",
    "print(x_test.shape, y_test.shape)"
   ]
  },
  {
   "cell_type": "code",
   "execution_count": 14,
   "id": "00041ac1-6d2f-4afa-a67d-cfcee3f02ee7",
   "metadata": {},
   "outputs": [
    {
     "data": {
      "text/plain": [
       "(3337, 3)"
      ]
     },
     "execution_count": 14,
     "metadata": {},
     "output_type": "execute_result"
    }
   ],
   "source": [
    "# d) 원핫인코딩\n",
    "y_train = pd.get_dummies(y_train)\n",
    "y_test = pd.get_dummies(y_test)\n",
    "y_train.shape"
   ]
  },
  {
   "cell_type": "markdown",
   "id": "bd5a4fc0-7b02-4b89-9867-efb857161a8e",
   "metadata": {},
   "source": [
    "## 4. 모델 생성 및 학습"
   ]
  },
  {
   "cell_type": "code",
   "execution_count": 18,
   "id": "af045782-7cbd-41f2-8445-8a01c9a6d3ce",
   "metadata": {},
   "outputs": [
    {
     "name": "stderr",
     "output_type": "stream",
     "text": [
      "C:\\Users\\DoHyeonjik\\anaconda3\\Lib\\site-packages\\keras\\src\\layers\\rnn\\rnn.py:204: UserWarning: Do not pass an `input_shape`/`input_dim` argument to a layer. When using Sequential models, prefer using an `Input(shape)` object as the first layer in the model instead.\n",
      "  super().__init__(**kwargs)\n"
     ]
    },
    {
     "data": {
      "text/html": [
       "<pre style=\"white-space:pre;overflow-x:auto;line-height:normal;font-family:Menlo,'DejaVu Sans Mono',consolas,'Courier New',monospace\"><span style=\"font-weight: bold\">Model: \"sequential_1\"</span>\n",
       "</pre>\n"
      ],
      "text/plain": [
       "\u001b[1mModel: \"sequential_1\"\u001b[0m\n"
      ]
     },
     "metadata": {},
     "output_type": "display_data"
    },
    {
     "data": {
      "text/html": [
       "<pre style=\"white-space:pre;overflow-x:auto;line-height:normal;font-family:Menlo,'DejaVu Sans Mono',consolas,'Courier New',monospace\">┏━━━━━━━━━━━━━━━━━━━━━━━━━━━━━━━━━━━━━━┳━━━━━━━━━━━━━━━━━━━━━━━━━━━━━┳━━━━━━━━━━━━━━━━━┓\n",
       "┃<span style=\"font-weight: bold\"> Layer (type)                         </span>┃<span style=\"font-weight: bold\"> Output Shape                </span>┃<span style=\"font-weight: bold\">         Param # </span>┃\n",
       "┡━━━━━━━━━━━━━━━━━━━━━━━━━━━━━━━━━━━━━━╇━━━━━━━━━━━━━━━━━━━━━━━━━━━━━╇━━━━━━━━━━━━━━━━━┩\n",
       "│ lstm_1 (<span style=\"color: #0087ff; text-decoration-color: #0087ff\">LSTM</span>)                        │ (<span style=\"color: #00d7ff; text-decoration-color: #00d7ff\">None</span>, <span style=\"color: #00af00; text-decoration-color: #00af00\">128</span>)                 │          <span style=\"color: #00af00; text-decoration-color: #00af00\">70,144</span> │\n",
       "├──────────────────────────────────────┼─────────────────────────────┼─────────────────┤\n",
       "│ dense_2 (<span style=\"color: #0087ff; text-decoration-color: #0087ff\">Dense</span>)                      │ (<span style=\"color: #00d7ff; text-decoration-color: #00d7ff\">None</span>, <span style=\"color: #00af00; text-decoration-color: #00af00\">128</span>)                 │          <span style=\"color: #00af00; text-decoration-color: #00af00\">16,512</span> │\n",
       "├──────────────────────────────────────┼─────────────────────────────┼─────────────────┤\n",
       "│ dense_3 (<span style=\"color: #0087ff; text-decoration-color: #0087ff\">Dense</span>)                      │ (<span style=\"color: #00d7ff; text-decoration-color: #00d7ff\">None</span>, <span style=\"color: #00af00; text-decoration-color: #00af00\">3</span>)                   │             <span style=\"color: #00af00; text-decoration-color: #00af00\">387</span> │\n",
       "└──────────────────────────────────────┴─────────────────────────────┴─────────────────┘\n",
       "</pre>\n"
      ],
      "text/plain": [
       "┏━━━━━━━━━━━━━━━━━━━━━━━━━━━━━━━━━━━━━━┳━━━━━━━━━━━━━━━━━━━━━━━━━━━━━┳━━━━━━━━━━━━━━━━━┓\n",
       "┃\u001b[1m \u001b[0m\u001b[1mLayer (type)                        \u001b[0m\u001b[1m \u001b[0m┃\u001b[1m \u001b[0m\u001b[1mOutput Shape               \u001b[0m\u001b[1m \u001b[0m┃\u001b[1m \u001b[0m\u001b[1m        Param #\u001b[0m\u001b[1m \u001b[0m┃\n",
       "┡━━━━━━━━━━━━━━━━━━━━━━━━━━━━━━━━━━━━━━╇━━━━━━━━━━━━━━━━━━━━━━━━━━━━━╇━━━━━━━━━━━━━━━━━┩\n",
       "│ lstm_1 (\u001b[38;5;33mLSTM\u001b[0m)                        │ (\u001b[38;5;45mNone\u001b[0m, \u001b[38;5;34m128\u001b[0m)                 │          \u001b[38;5;34m70,144\u001b[0m │\n",
       "├──────────────────────────────────────┼─────────────────────────────┼─────────────────┤\n",
       "│ dense_2 (\u001b[38;5;33mDense\u001b[0m)                      │ (\u001b[38;5;45mNone\u001b[0m, \u001b[38;5;34m128\u001b[0m)                 │          \u001b[38;5;34m16,512\u001b[0m │\n",
       "├──────────────────────────────────────┼─────────────────────────────┼─────────────────┤\n",
       "│ dense_3 (\u001b[38;5;33mDense\u001b[0m)                      │ (\u001b[38;5;45mNone\u001b[0m, \u001b[38;5;34m3\u001b[0m)                   │             \u001b[38;5;34m387\u001b[0m │\n",
       "└──────────────────────────────────────┴─────────────────────────────┴─────────────────┘\n"
      ]
     },
     "metadata": {},
     "output_type": "display_data"
    },
    {
     "data": {
      "text/html": [
       "<pre style=\"white-space:pre;overflow-x:auto;line-height:normal;font-family:Menlo,'DejaVu Sans Mono',consolas,'Courier New',monospace\"><span style=\"font-weight: bold\"> Total params: </span><span style=\"color: #00af00; text-decoration-color: #00af00\">87,043</span> (340.01 KB)\n",
       "</pre>\n"
      ],
      "text/plain": [
       "\u001b[1m Total params: \u001b[0m\u001b[38;5;34m87,043\u001b[0m (340.01 KB)\n"
      ]
     },
     "metadata": {},
     "output_type": "display_data"
    },
    {
     "data": {
      "text/html": [
       "<pre style=\"white-space:pre;overflow-x:auto;line-height:normal;font-family:Menlo,'DejaVu Sans Mono',consolas,'Courier New',monospace\"><span style=\"font-weight: bold\"> Trainable params: </span><span style=\"color: #00af00; text-decoration-color: #00af00\">87,043</span> (340.01 KB)\n",
       "</pre>\n"
      ],
      "text/plain": [
       "\u001b[1m Trainable params: \u001b[0m\u001b[38;5;34m87,043\u001b[0m (340.01 KB)\n"
      ]
     },
     "metadata": {},
     "output_type": "display_data"
    },
    {
     "data": {
      "text/html": [
       "<pre style=\"white-space:pre;overflow-x:auto;line-height:normal;font-family:Menlo,'DejaVu Sans Mono',consolas,'Courier New',monospace\"><span style=\"font-weight: bold\"> Non-trainable params: </span><span style=\"color: #00af00; text-decoration-color: #00af00\">0</span> (0.00 B)\n",
       "</pre>\n"
      ],
      "text/plain": [
       "\u001b[1m Non-trainable params: \u001b[0m\u001b[38;5;34m0\u001b[0m (0.00 B)\n"
      ]
     },
     "metadata": {},
     "output_type": "display_data"
    }
   ],
   "source": [
    "#a. LSTM 모델 생성\n",
    "from tensorflow import keras\n",
    "from keras.models import Sequential\n",
    "from keras.layers import LSTM, Dense\n",
    "\n",
    "model = Sequential()\n",
    "model.add(LSTM(128, input_shape=(5,8)))\n",
    "model.add(Dense(128, activation='relu'))\n",
    "model.add(Dense(3, activation='softmax'))\n",
    "model.compile(optimizer='adam', metrics=['accuracy'], loss='categorical_crossentropy')\n",
    "\n",
    "model.summary()"
   ]
  },
  {
   "cell_type": "code",
   "execution_count": 19,
   "id": "884ad023-74a3-4a2e-bd00-f5b2c3553f81",
   "metadata": {},
   "outputs": [
    {
     "name": "stdout",
     "output_type": "stream",
     "text": [
      "Epoch 1/20\n",
      "\u001b[1m94/94\u001b[0m \u001b[32m━━━━━━━━━━━━━━━━━━━━\u001b[0m\u001b[37m\u001b[0m \u001b[1m3s\u001b[0m 9ms/step - accuracy: 0.9302 - loss: 0.4527 - val_accuracy: 0.9551 - val_loss: 0.2185\n",
      "Epoch 2/20\n",
      "\u001b[1m94/94\u001b[0m \u001b[32m━━━━━━━━━━━━━━━━━━━━\u001b[0m\u001b[37m\u001b[0m \u001b[1m0s\u001b[0m 3ms/step - accuracy: 0.9439 - loss: 0.2570 - val_accuracy: 0.9551 - val_loss: 0.2196\n",
      "Epoch 3/20\n",
      "\u001b[1m94/94\u001b[0m \u001b[32m━━━━━━━━━━━━━━━━━━━━\u001b[0m\u001b[37m\u001b[0m \u001b[1m0s\u001b[0m 4ms/step - accuracy: 0.9470 - loss: 0.2363 - val_accuracy: 0.9551 - val_loss: 0.2067\n",
      "Epoch 4/20\n",
      "\u001b[1m94/94\u001b[0m \u001b[32m━━━━━━━━━━━━━━━━━━━━\u001b[0m\u001b[37m\u001b[0m \u001b[1m0s\u001b[0m 3ms/step - accuracy: 0.9414 - loss: 0.2490 - val_accuracy: 0.9551 - val_loss: 0.2069\n",
      "Epoch 5/20\n",
      "\u001b[1m94/94\u001b[0m \u001b[32m━━━━━━━━━━━━━━━━━━━━\u001b[0m\u001b[37m\u001b[0m \u001b[1m0s\u001b[0m 3ms/step - accuracy: 0.9396 - loss: 0.2518 - val_accuracy: 0.9551 - val_loss: 0.2022\n",
      "Epoch 6/20\n",
      "\u001b[1m94/94\u001b[0m \u001b[32m━━━━━━━━━━━━━━━━━━━━\u001b[0m\u001b[37m\u001b[0m \u001b[1m0s\u001b[0m 3ms/step - accuracy: 0.9359 - loss: 0.2556 - val_accuracy: 0.9551 - val_loss: 0.2014\n",
      "Epoch 7/20\n",
      "\u001b[1m94/94\u001b[0m \u001b[32m━━━━━━━━━━━━━━━━━━━━\u001b[0m\u001b[37m\u001b[0m \u001b[1m0s\u001b[0m 4ms/step - accuracy: 0.9391 - loss: 0.2468 - val_accuracy: 0.9551 - val_loss: 0.2305\n",
      "Epoch 8/20\n",
      "\u001b[1m94/94\u001b[0m \u001b[32m━━━━━━━━━━━━━━━━━━━━\u001b[0m\u001b[37m\u001b[0m \u001b[1m0s\u001b[0m 3ms/step - accuracy: 0.9477 - loss: 0.2141 - val_accuracy: 0.9551 - val_loss: 0.2120\n",
      "Epoch 9/20\n",
      "\u001b[1m94/94\u001b[0m \u001b[32m━━━━━━━━━━━━━━━━━━━━\u001b[0m\u001b[37m\u001b[0m \u001b[1m0s\u001b[0m 3ms/step - accuracy: 0.9398 - loss: 0.2386 - val_accuracy: 0.9551 - val_loss: 0.2062\n",
      "Epoch 10/20\n",
      "\u001b[1m94/94\u001b[0m \u001b[32m━━━━━━━━━━━━━━━━━━━━\u001b[0m\u001b[37m\u001b[0m \u001b[1m0s\u001b[0m 3ms/step - accuracy: 0.9365 - loss: 0.2501 - val_accuracy: 0.9551 - val_loss: 0.2239\n",
      "Epoch 11/20\n",
      "\u001b[1m94/94\u001b[0m \u001b[32m━━━━━━━━━━━━━━━━━━━━\u001b[0m\u001b[37m\u001b[0m \u001b[1m0s\u001b[0m 3ms/step - accuracy: 0.9322 - loss: 0.2629 - val_accuracy: 0.9551 - val_loss: 0.2076\n",
      "Epoch 12/20\n",
      "\u001b[1m94/94\u001b[0m \u001b[32m━━━━━━━━━━━━━━━━━━━━\u001b[0m\u001b[37m\u001b[0m \u001b[1m0s\u001b[0m 3ms/step - accuracy: 0.9409 - loss: 0.2314 - val_accuracy: 0.9551 - val_loss: 0.2036\n",
      "Epoch 13/20\n",
      "\u001b[1m94/94\u001b[0m \u001b[32m━━━━━━━━━━━━━━━━━━━━\u001b[0m\u001b[37m\u001b[0m \u001b[1m0s\u001b[0m 4ms/step - accuracy: 0.9393 - loss: 0.2352 - val_accuracy: 0.9551 - val_loss: 0.2060\n",
      "Epoch 14/20\n",
      "\u001b[1m94/94\u001b[0m \u001b[32m━━━━━━━━━━━━━━━━━━━━\u001b[0m\u001b[37m\u001b[0m \u001b[1m0s\u001b[0m 4ms/step - accuracy: 0.9492 - loss: 0.2160 - val_accuracy: 0.9551 - val_loss: 0.2101\n",
      "Epoch 15/20\n",
      "\u001b[1m94/94\u001b[0m \u001b[32m━━━━━━━━━━━━━━━━━━━━\u001b[0m\u001b[37m\u001b[0m \u001b[1m0s\u001b[0m 3ms/step - accuracy: 0.9291 - loss: 0.2515 - val_accuracy: 0.9551 - val_loss: 0.2060\n",
      "Epoch 16/20\n",
      "\u001b[1m94/94\u001b[0m \u001b[32m━━━━━━━━━━━━━━━━━━━━\u001b[0m\u001b[37m\u001b[0m \u001b[1m0s\u001b[0m 3ms/step - accuracy: 0.9474 - loss: 0.1968 - val_accuracy: 0.9551 - val_loss: 0.2183\n",
      "Epoch 17/20\n",
      "\u001b[1m94/94\u001b[0m \u001b[32m━━━━━━━━━━━━━━━━━━━━\u001b[0m\u001b[37m\u001b[0m \u001b[1m0s\u001b[0m 4ms/step - accuracy: 0.9401 - loss: 0.2277 - val_accuracy: 0.9551 - val_loss: 0.2075\n",
      "Epoch 18/20\n",
      "\u001b[1m94/94\u001b[0m \u001b[32m━━━━━━━━━━━━━━━━━━━━\u001b[0m\u001b[37m\u001b[0m \u001b[1m0s\u001b[0m 3ms/step - accuracy: 0.9417 - loss: 0.2187 - val_accuracy: 0.9551 - val_loss: 0.2089\n",
      "Epoch 19/20\n",
      "\u001b[1m94/94\u001b[0m \u001b[32m━━━━━━━━━━━━━━━━━━━━\u001b[0m\u001b[37m\u001b[0m \u001b[1m0s\u001b[0m 3ms/step - accuracy: 0.9399 - loss: 0.2208 - val_accuracy: 0.9551 - val_loss: 0.2191\n",
      "Epoch 20/20\n",
      "\u001b[1m94/94\u001b[0m \u001b[32m━━━━━━━━━━━━━━━━━━━━\u001b[0m\u001b[37m\u001b[0m \u001b[1m0s\u001b[0m 4ms/step - accuracy: 0.9387 - loss: 0.2217 - val_accuracy: 0.9551 - val_loss: 0.2040\n"
     ]
    }
   ],
   "source": [
    "#b. 학습\n",
    "history = model.fit(x_train, y_train, epochs=20, batch_size=32, validation_split=0.1, shuffle=True)"
   ]
  },
  {
   "cell_type": "code",
   "execution_count": 23,
   "id": "e6838598-02af-4b06-8faa-ce09d52881d6",
   "metadata": {},
   "outputs": [
    {
     "name": "stdout",
     "output_type": "stream",
     "text": [
      "\u001b[1m26/26\u001b[0m \u001b[32m━━━━━━━━━━━━━━━━━━━━\u001b[0m\u001b[37m\u001b[0m \u001b[1m0s\u001b[0m 2ms/step - accuracy: 0.9278 - loss: 0.2452 \n",
      "[loss, acc]: [0.225311279296875, 0.9338942170143127]\n"
     ]
    }
   ],
   "source": [
    "print('[loss, acc]:',model.evaluate(x_test, y_test))"
   ]
  },
  {
   "cell_type": "code",
   "execution_count": null,
   "id": "2dfb906e-f4b0-409a-8210-52e37083c1d0",
   "metadata": {},
   "outputs": [],
   "source": []
  }
 ],
 "metadata": {
  "kernelspec": {
   "display_name": "Python 3 (ipykernel)",
   "language": "python",
   "name": "python3"
  },
  "language_info": {
   "codemirror_mode": {
    "name": "ipython",
    "version": 3
   },
   "file_extension": ".py",
   "mimetype": "text/x-python",
   "name": "python",
   "nbconvert_exporter": "python",
   "pygments_lexer": "ipython3",
   "version": "3.11.7"
  }
 },
 "nbformat": 4,
 "nbformat_minor": 5
}
